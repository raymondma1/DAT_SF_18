{
 "cells": [
  {
   "cell_type": "code",
   "execution_count": null,
   "metadata": {
    "collapsed": false
   },
   "outputs": [],
   "source": [
    "# import and setup environment\n",
    "import twitter\n",
    "import pandas as pd\n",
    "import numpy as np\n",
    "import random\n",
    "from bokeh.plotting import figure, output_notebook,show\n",
    "output_notebook()\n",
    "%matplotlib inline\n",
    "\n",
    "import requests\n",
    "import json\n",
    "import matplotlib.pyplot as plt\n",
    "\n",
    "#enter your own keys to test Mine will be hidden \n",
    "CONSUMER_KEY = 'hidden'\n",
    "CONSUMER_SECRET ='hidden'\n",
    "OAUTH_TOKEN = 'hidden'\n",
    "OAUTH_TOKEN_SECRET = 'hidden'"
   ]
  },
  {
   "cell_type": "code",
   "execution_count": null,
   "metadata": {
    "collapsed": false
   },
   "outputs": [],
   "source": [
    "auth = twitter.oauth.OAuth(OAUTH_TOKEN, OAUTH_TOKEN_SECRET,\n",
    "                           CONSUMER_KEY, CONSUMER_SECRET)\n",
    "\n",
    "twitter_api = twitter.Twitter(auth=auth)\n"
   ]
  },
  {
   "cell_type": "markdown",
   "metadata": {},
   "source": [
    "\n",
    "#  Q: Most trending topics in USA Regions and CA Regions"
   ]
  },
  {
   "cell_type": "code",
   "execution_count": null,
   "metadata": {
    "collapsed": false
   },
   "outputs": [],
   "source": [
    "#trending locations for twitter\n",
    "trending_loc = twitter_api.trends.available()\n",
    "trending_loc\n",
    "loc_df = pd.DataFrame(trending_loc)\n",
    "loc_df.head()"
   ]
  },
  {
   "cell_type": "code",
   "execution_count": null,
   "metadata": {
    "collapsed": false
   },
   "outputs": [],
   "source": [
    "loc_df[loc_df['parentid']==1]"
   ]
  },
  {
   "cell_type": "code",
   "execution_count": null,
   "metadata": {
    "collapsed": false
   },
   "outputs": [],
   "source": [
    "#grab woeid for canada and usa. \n",
    "#covnert to  list to call trend api for each location in usa and canada respectively \n",
    "us_woeid_list = loc_df[loc_df['countryCode']=='US'][loc_df['parentid'] != 1]['woeid'].tolist()\n",
    "ca_woeid_list = loc_df[loc_df['countryCode']=='CA'][loc_df['parentid'] != 1]['woeid'].tolist()\n",
    "print us_woeid_list[:5]\n",
    "print ca_woeid_list[:5]"
   ]
  },
  {
   "cell_type": "code",
   "execution_count": null,
   "metadata": {
    "collapsed": false
   },
   "outputs": [],
   "source": [
    "#since twitter trends api sets a limit to the calls we can make and does not allow chaining of woeids.\n",
    "#randomly select 5 from us and 5 from ca\n",
    "us_woeid_subset = random.sample(set(us_woeid_list), 5)\n",
    "ca_woeid_subset = random.sample(set(ca_woeid_list),5)\n",
    "print us_woeid_subset\n",
    "print ca_woeid_subset"
   ]
  },
  {
   "cell_type": "code",
   "execution_count": null,
   "metadata": {
    "collapsed": false
   },
   "outputs": [],
   "source": [
    "usa_trends = []\n",
    "ca_trends = []\n",
    "\n",
    "for i, _val in enumerate(us_woeid_subset):\n",
    "    usa_trends.append(twitter_api.trends.place(_id=us_woeid_subset[i]))\n",
    "    ca_trends.append(twitter_api.trends.place(_id=ca_woeid_subset[i]))\n",
    "    "
   ]
  },
  {
   "cell_type": "code",
   "execution_count": null,
   "metadata": {
    "collapsed": false
   },
   "outputs": [],
   "source": [
    "from collections import defaultdict\n",
    "usa_queries = defaultdict(int)\n",
    "ca_queries = defaultdict(int)\n",
    "agg_queries = defaultdict(int)\n",
    "\n",
    "for array in usa_trends:\n",
    "    for el in array[0]['trends']:\n",
    "        usa_queries[el['name']] +=1\n",
    "        agg_queries[el['name']] +=1\n",
    "\n",
    "for array in ca_trends:\n",
    "    for el in array[0]['trends']:\n",
    "        ca_queries[el['name']] +=1\n",
    "        agg_queries[el['name']] +=1\n",
    "\n",
    "print usa_queries\n",
    "print ca_queries\n"
   ]
  },
  {
   "cell_type": "code",
   "execution_count": null,
   "metadata": {
    "collapsed": false
   },
   "outputs": [],
   "source": [
    "usa_df = pd.DataFrame(usa_queries.items(),columns=['query','counts'])\n",
    "ca_df = pd.DataFrame(ca_queries.items(),columns=['query','counts'])\n",
    "agg_df = pd.DataFrame(agg_queries.items(),columns=['query','counts'])\n",
    "print usa_df.head()\n",
    "print ca_df.head()\n",
    "print agg_df.head()"
   ]
  },
  {
   "cell_type": "code",
   "execution_count": null,
   "metadata": {
    "collapsed": false
   },
   "outputs": [],
   "source": [
    "#prepare data\n",
    "usa_df = usa_df.set_index(usa_df['query'])\n",
    "usa_df = usa_df.drop('query', 1)\n",
    "ca_df = ca_df.set_index(ca_df['query'])\n",
    "ca_df = ca_df.drop('query',1)\n",
    "agg_df = agg_df.set_index(agg_df['query'])\n",
    "agg_df = agg_df.drop('query',1)\n"
   ]
  },
  {
   "cell_type": "code",
   "execution_count": null,
   "metadata": {
    "collapsed": false
   },
   "outputs": [],
   "source": [
    "ca_df"
   ]
  },
  {
   "cell_type": "code",
   "execution_count": null,
   "metadata": {
    "collapsed": false
   },
   "outputs": [],
   "source": [
    "ca_df.oc"
   ]
  },
  {
   "cell_type": "code",
   "execution_count": null,
   "metadata": {
    "collapsed": false
   },
   "outputs": [],
   "source": [
    "from bokeh.charts import Bar\n",
    "\n",
    "show(Bar(usa_df, title ='USA'))\n",
    "show(Bar(ca_df, title=\"CA\"))"
   ]
  },
  {
   "cell_type": "code",
   "execution_count": null,
   "metadata": {
    "collapsed": false
   },
   "outputs": [],
   "source": [
    "show(Bar(agg_df[agg_df.counts > 1], title=\"US + Canada\"))"
   ]
  },
  {
   "cell_type": "markdown",
   "metadata": {},
   "source": [
    "# Conclusion\n",
    "\n",
    "Out of our random sample of 5 regions in Canada and 5 regions in USA looks like Fallout 4 are the shared trends.\n",
    "Results will change on each run due to random selection process and constantly changing trends on twitter"
   ]
  },
  {
   "cell_type": "code",
   "execution_count": null,
   "metadata": {
    "collapsed": true
   },
   "outputs": [],
   "source": []
  }
 ],
 "metadata": {
  "kernelspec": {
   "display_name": "Python 2",
   "language": "python",
   "name": "python2"
  },
  "language_info": {
   "codemirror_mode": {
    "name": "ipython",
    "version": 2
   },
   "file_extension": ".py",
   "mimetype": "text/x-python",
   "name": "python",
   "nbconvert_exporter": "python",
   "pygments_lexer": "ipython2",
   "version": "2.7.10"
  }
 },
 "nbformat": 4,
 "nbformat_minor": 0
}
