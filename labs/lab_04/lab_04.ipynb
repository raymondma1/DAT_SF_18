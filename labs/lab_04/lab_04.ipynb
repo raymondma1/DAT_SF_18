{
 "cells": [
  {
   "cell_type": "markdown",
   "metadata": {},
   "source": [
    "# GA Data Science 18 (DAT18) - Lab4"
   ]
  },
  {
   "cell_type": "markdown",
   "metadata": {},
   "source": [
    "## Lab goals\n",
    "\n",
    "- Simple APIs with Python\n",
    "- Kimono Labs: an external tool for aquiring data"
   ]
  },
  {
   "cell_type": "code",
   "execution_count": 12,
   "metadata": {
    "collapsed": true
   },
   "outputs": [],
   "source": [
    "# Imports at the top\n",
    "import json\n",
    "import urllib\n",
    "import pandas as pd\n",
    "\n",
    "import requests\n",
    "import json\n"
   ]
  },
  {
   "cell_type": "markdown",
   "metadata": {},
   "source": [
    "## Using Python APIs"
   ]
  },
  {
   "cell_type": "markdown",
   "metadata": {},
   "source": [
    "### Either Use Sheetsu or an API you've found\n",
    "Sheetsu: Turning Google Docs into APIs/\n",
    "https://sheetsu.com/"
   ]
  },
  {
   "cell_type": "markdown",
   "metadata": {
    "collapsed": true
   },
   "source": [
    "### Using Sheetsu\n",
    "I've created a GoogleDoc with wine data\n",
    "\n",
    "https://docs.google.com/spreadsheets/d/1_U-DHIrBXN8A1e3NbyOIJRORge2udmmaa8qS9mKddWo/edit#gid=0 \n",
    "https://sheetsu.com/apis/79656330"
   ]
  },
  {
   "cell_type": "code",
   "execution_count": 45,
   "metadata": {
    "collapsed": true
   },
   "outputs": [],
   "source": [
    "# You can either post or get info from this API\n",
    "# using the /column/Name you can pull only specfic subsets of the data\n",
    "api_base_url = 'https://sheetsu.com/apis/79656330'\n",
    "api_column = '/column/Name'\n"
   ]
  },
  {
   "cell_type": "markdown",
   "metadata": {},
   "source": [
    "##### Reading Data from an API datafeed"
   ]
  },
  {
   "cell_type": "code",
   "execution_count": 5,
   "metadata": {
    "collapsed": true
   },
   "outputs": [],
   "source": [
    "# What kind of data is this returning?\n",
    "api_response = requests.get(api_base_url)\n",
    "api_response.text"
   ]
  },
  {
   "cell_type": "code",
   "execution_count": 47,
   "metadata": {
    "collapsed": false
   },
   "outputs": [],
   "source": [
    "# What kind of data is this returning?\n",
    "api_column_url = api_base_url + api_column\n",
    "column_response = requests.get(api_column_url)\n",
    "column_response.text"
   ]
  },
  {
   "cell_type": "markdown",
   "metadata": {},
   "source": [
    "#### Reading JSON"
   ]
  },
  {
   "cell_type": "code",
   "execution_count": 10,
   "metadata": {
    "collapsed": false
   },
   "outputs": [],
   "source": [
    "reponse_dict = json.loads(api_response.text)"
   ]
  },
  {
   "cell_type": "markdown",
   "metadata": {},
   "source": [
    "#### What is the response of an API and what does it mean??"
   ]
  },
  {
   "cell_type": "code",
   "execution_count": 43,
   "metadata": {
    "collapsed": false
   },
   "outputs": [],
   "source": [
    "# What data was returned?\n",
    "reponse_dict"
   ]
  },
  {
   "cell_type": "markdown",
   "metadata": {},
   "source": [
    "#### Lets read the data into a DataFrame!"
   ]
  },
  {
   "cell_type": "code",
   "execution_count": 19,
   "metadata": {
    "collapsed": false
   },
   "outputs": [],
   "source": [
    "wine_df = pd.DataFrame(reponse_dict['result'])\n",
    "wine_df.head()"
   ]
  },
  {
   "cell_type": "markdown",
   "metadata": {},
   "source": [
    "#### Pandas has great functions. We could just do it this way\n",
    "\n",
    "This sometimes works, but the data may need adjusting"
   ]
  },
  {
   "cell_type": "code",
   "execution_count": null,
   "metadata": {
    "collapsed": true
   },
   "outputs": [],
   "source": [
    "pd.read_json(api_response.text).head(2)"
   ]
  },
  {
   "cell_type": "code",
   "execution_count": 39,
   "metadata": {
    "collapsed": false
   },
   "outputs": [],
   "source": [
    "wine_df = pd.DataFrame(list(pd.read_json(api_response.text).result.values))\n",
    "wine_df.head(2)"
   ]
  },
  {
   "cell_type": "markdown",
   "metadata": {},
   "source": [
    "#### Writing to an API using PUT\n",
    "You will rarely need to do this"
   ]
  },
  {
   "cell_type": "code",
   "execution_count": 54,
   "metadata": {
    "collapsed": false
   },
   "outputs": [],
   "source": [
    "# Send data to an API\n",
    "post_data = {\n",
    "    'Grape' : ''\n",
    "    , 'Name' : 'Dylans Wine'\n",
    "    , 'Color' : 'R'\n",
    "    , 'Country' : 'US'\n",
    "    , 'Region' : 'CA'\n",
    "    , 'Vinyard' : ''\n",
    "    , 'Score' : '10'\n",
    "    , 'Consumed In' : '2015'\n",
    "    , 'Vintage' : '1973'\n",
    "    , 'Price' : '200'\n",
    "    }\n",
    "requests.post(api_base_url, data=post_data)\n"
   ]
  },
  {
   "cell_type": "markdown",
   "metadata": {},
   "source": [
    "### Exercise 1\n",
    "    - Either with your own google doc or a different API\n",
    "    - Extract some data using requests\n",
    "    - Pull the data into a DataFrame\n",
    "    - Search For missing data\n",
    "        - Is there any missing data you can clean?\n",
    "        - Is there any data you can just remove?\n",
    "    - Summarize the data \n",
    "        - Try using describe, min, max, mean, var\n",
    "        - What are the unique values and can you do anything with the text?\n",
    "            Hint: Try using pd.get_dummies\n",
    "    - Bonus: Create some visualizations form this data\n",
    "    - Bonus: Try using sheetsu to push new data to the google doc (requests.post)"
   ]
  },
  {
   "cell_type": "code",
   "execution_count": null,
   "metadata": {
    "collapsed": true
   },
   "outputs": [],
   "source": []
  },
  {
   "cell_type": "code",
   "execution_count": null,
   "metadata": {
    "collapsed": true
   },
   "outputs": [],
   "source": []
  },
  {
   "cell_type": "markdown",
   "metadata": {},
   "source": [
    "## Kimono Labs\n",
    "\n"
   ]
  },
  {
   "cell_type": "markdown",
   "metadata": {},
   "source": [
    "Web scraping with the Kimono Labs API\n",
    "\n",
    "https://www.kimonolabs.com/"
   ]
  },
  {
   "cell_type": "code",
   "execution_count": 64,
   "metadata": {
    "collapsed": false
   },
   "outputs": [],
   "source": [
    "\n",
    "api_key = 'Your API Key'"
   ]
  },
  {
   "cell_type": "code",
   "execution_count": 61,
   "metadata": {
    "collapsed": false
   },
   "outputs": [],
   "source": [
    "\n",
    "def getMovies(year, api_key=api_key):\n",
    "    \"\"\"\n",
    "    Creates list of top 50 movies by gross box office\n",
    "    sales for a year with ratings and sales\n",
    "    \"\"\"\n",
    "    \n",
    "    movies, ratings, sales = [], [], []\n",
    "    #Remember to replace this link with the link to your specifc API\n",
    "    url = \"https://www.kimonolabs.com/api/eb81bu78?\" + \\\n",
    "            \"apikey={}\".format(api_key) + \\\n",
    "            \"&year={year}\".format(year=str(year)) \n",
    "    \n",
    "    data = json.load(urllib.urlopen(url))\n",
    "    \n",
    "    # Iterate through json object to collect data\n",
    "    for n in xrange(data['count']):\n",
    "        n_title = data['results']['collection1'][n]['title']['text']\n",
    "        n_rating = data['results']['collection1'][n]['rating']\n",
    "        n_sales = data['results']['collection1'][n]['sales']\n",
    "        movies.append(n_title)\n",
    "        ratings.append(n_rating)\n",
    "        sales.append(n_sales)\n",
    "    \n",
    "    data = pd.DataFrame({'movie':movies,'rating':ratings,'sales':sales})\n",
    "    \n",
    "    return data\n"
   ]
  },
  {
   "cell_type": "code",
   "execution_count": 62,
   "metadata": {
    "collapsed": false
   },
   "outputs": [],
   "source": [
    "movies_1990 = getMovies(1990)"
   ]
  },
  {
   "cell_type": "code",
   "execution_count": 63,
   "metadata": {
    "collapsed": false
   },
   "outputs": [
    {
     "data": {
      "text/html": [
       "<div>\n",
       "<table border=\"1\" class=\"dataframe\">\n",
       "  <thead>\n",
       "    <tr style=\"text-align: right;\">\n",
       "      <th></th>\n",
       "      <th>movie</th>\n",
       "      <th>rating</th>\n",
       "      <th>sales</th>\n",
       "    </tr>\n",
       "  </thead>\n",
       "  <tbody>\n",
       "    <tr>\n",
       "      <th>0</th>\n",
       "      <td>How the Grinch Stole Christmas</td>\n",
       "      <td>6.0</td>\n",
       "      <td>$260M</td>\n",
       "    </tr>\n",
       "    <tr>\n",
       "      <th>1</th>\n",
       "      <td>Cast Away</td>\n",
       "      <td>7.7</td>\n",
       "      <td>$234M</td>\n",
       "    </tr>\n",
       "    <tr>\n",
       "      <th>2</th>\n",
       "      <td>Mission: Impossible II</td>\n",
       "      <td>6.0</td>\n",
       "      <td>$215M</td>\n",
       "    </tr>\n",
       "    <tr>\n",
       "      <th>3</th>\n",
       "      <td>Gladiator</td>\n",
       "      <td>8.5</td>\n",
       "      <td>$188M</td>\n",
       "    </tr>\n",
       "    <tr>\n",
       "      <th>4</th>\n",
       "      <td>Meet the Parents</td>\n",
       "      <td>7.0</td>\n",
       "      <td>$166M</td>\n",
       "    </tr>\n",
       "  </tbody>\n",
       "</table>\n",
       "</div>"
      ],
      "text/plain": [
       "                            movie rating  sales\n",
       "0  How the Grinch Stole Christmas    6.0  $260M\n",
       "1                       Cast Away    7.7  $234M\n",
       "2          Mission: Impossible II    6.0  $215M\n",
       "3                       Gladiator    8.5  $188M\n",
       "4                Meet the Parents    7.0  $166M"
      ]
     },
     "execution_count": 63,
     "metadata": {},
     "output_type": "execute_result"
    }
   ],
   "source": [
    "# print movies_1990\n",
    "# print movies_1990['count']\n",
    "# print movies_1990['results']\n",
    "# print movies_1990['results']['collection1']\n",
    "# print movies_1990['results']['collection1'][0]\n",
    "# print movies_1990['results']['collection1'][0]['title']\n",
    "# print movies_1990['results']['collection1'][0]['title']['text']\n",
    "movies_1990.head()"
   ]
  },
  {
   "cell_type": "code",
   "execution_count": null,
   "metadata": {
    "collapsed": false
   },
   "outputs": [],
   "source": [
    "movies_2000 = getMovies(2000)\n",
    "movies_2000"
   ]
  },
  {
   "cell_type": "code",
   "execution_count": null,
   "metadata": {
    "collapsed": false
   },
   "outputs": [],
   "source": [
    "all_movies = pd.concat([movies_1990, movies_2000])"
   ]
  },
  {
   "cell_type": "markdown",
   "metadata": {},
   "source": [
    "### Exercise 2\n",
    "Build your own api via kimono at https://www.kimonolabs.com/. Create the api we created in class to call the data.\n",
    "\n",
    "What were the average sales in 1995?\n",
    "What was the average rating?"
   ]
  },
  {
   "cell_type": "code",
   "execution_count": null,
   "metadata": {
    "collapsed": true
   },
   "outputs": [],
   "source": []
  },
  {
   "cell_type": "markdown",
   "metadata": {},
   "source": [
    "###Bonus\n",
    "What were the average sales for the 90s? How does that differ from the 2000s?"
   ]
  },
  {
   "cell_type": "code",
   "execution_count": null,
   "metadata": {
    "collapsed": true
   },
   "outputs": [],
   "source": []
  }
 ],
 "metadata": {
  "kernelspec": {
   "display_name": "Python 2",
   "language": "python",
   "name": "python2"
  },
  "language_info": {
   "codemirror_mode": {
    "name": "ipython",
    "version": 2
   },
   "file_extension": ".py",
   "mimetype": "text/x-python",
   "name": "python",
   "nbconvert_exporter": "python",
   "pygments_lexer": "ipython2",
   "version": "2.7.10"
  }
 },
 "nbformat": 4,
 "nbformat_minor": 0
}
