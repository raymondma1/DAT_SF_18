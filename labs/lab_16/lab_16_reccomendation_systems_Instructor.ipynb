{
 "cells": [
  {
   "cell_type": "markdown",
   "metadata": {},
   "source": [
    "# GA Data Science 18 (DAT18) - Lab 16\n",
    "\n",
    "### Recommendation Systems\n",
    "\n",
    "### Today\n",
    "\n",
    "1. Simple similarity based recommendation system\n",
    "2. Recsys"
   ]
  },
  {
   "cell_type": "markdown",
   "metadata": {},
   "source": [
    "## Similarity based Recommendation System: Beers\n",
    "\n",
    "\n",
    "Let's build a recommendation system to recommend types of beers based on user reviews"
   ]
  },
  {
   "cell_type": "markdown",
   "metadata": {},
   "source": [
    "Usual imports (numpy, pandas)"
   ]
  },
  {
   "cell_type": "code",
   "execution_count": 1,
   "metadata": {
    "collapsed": false
   },
   "outputs": [],
   "source": [
    "import pandas as pd\n",
    "import numpy as np"
   ]
  },
  {
   "cell_type": "markdown",
   "metadata": {},
   "source": [
    "First of all let's get the data"
   ]
  },
  {
   "cell_type": "code",
   "execution_count": 2,
   "metadata": {
    "collapsed": false
   },
   "outputs": [
    {
     "name": "stdout",
     "output_type": "stream",
     "text": [
      "  % Total    % Received % Xferd  Average Speed   Time    Time     Time  Current\n",
      "                                 Dload  Upload   Total   Spent    Left  Speed\n",
      "100 27.3M  100 27.3M    0     0  4996k      0  0:00:05  0:00:05 --:--:-- 6057k\n"
     ]
    }
   ],
   "source": [
    "! curl -O https://s3.amazonaws.com/demo-datasets/beer_reviews.tar.gz"
   ]
  },
  {
   "cell_type": "markdown",
   "metadata": {},
   "source": [
    "Import data in a pandas dataframe called \"allbeers\". Use the compression keyword"
   ]
  },
  {
   "cell_type": "code",
   "execution_count": 3,
   "metadata": {
    "collapsed": false
   },
   "outputs": [],
   "source": [
    "# allbeers = pd.read_csv(\"beer_reviews.tar.gz\", compression='gzip')\n",
    "#If the compression fails - expand the compressed folder and open with:\n",
    "allbeers = pd.read_csv(\"beer_reviews/beer_reviews.csv\")"
   ]
  },
  {
   "cell_type": "markdown",
   "metadata": {},
   "source": [
    "Let's look at the data"
   ]
  },
  {
   "cell_type": "code",
   "execution_count": 6,
   "metadata": {
    "collapsed": false
   },
   "outputs": [],
   "source": [
    "# allbeers.info()"
   ]
  },
  {
   "cell_type": "markdown",
   "metadata": {},
   "source": [
    "Let's restrict this to the top 250 beers. Use the value_counts() method select the top 250 beers.\n",
    "Assign the selected beers to a dataset called df"
   ]
  },
  {
   "cell_type": "code",
   "execution_count": 13,
   "metadata": {
    "collapsed": false
   },
   "outputs": [
    {
     "data": {
      "text/plain": [
       "Index([u'90 Minute IPA', u'India Pale Ale',\n",
       "       u'Old Rasputin Russian Imperial Stout',\n",
       "       u'Sierra Nevada Celebration Ale', u'Two Hearted Ale',\n",
       "       u'Stone Ruination IPA', u'Arrogant Bastard Ale',\n",
       "       u'Sierra Nevada Pale Ale', u'Stone IPA (India Pale Ale)',\n",
       "       u'Pliny The Elder',\n",
       "       ...\n",
       "       u'American Red Cross Ale', u'Green Flash Imperial Red',\n",
       "       u'Wizard's Wheat', u'Stone Everything But The Kitchen Sink Stout',\n",
       "       u'Calico Copper E.S.B.', u'Von Jakob American Pilsner',\n",
       "       u'Magadanskoye Barkhatnoye', u'North Shore Gold',\n",
       "       u'Ruby River Hefeweizen', u'Two Penny Ale'],\n",
       "      dtype='object', length=56857)"
      ]
     },
     "execution_count": 13,
     "metadata": {},
     "output_type": "execute_result"
    }
   ],
   "source": [
    "allbeers.beer_name.value_counts().index"
   ]
  },
  {
   "cell_type": "code",
   "execution_count": 15,
   "metadata": {
    "collapsed": false
   },
   "outputs": [],
   "source": [
    "n = 250\n",
    "top_n = allbeers.beer_name.value_counts().index[:n]"
   ]
  },
  {
   "cell_type": "code",
   "execution_count": 16,
   "metadata": {
    "collapsed": false
   },
   "outputs": [
    {
     "data": {
      "text/html": [
       "<div>\n",
       "<table border=\"1\" class=\"dataframe\">\n",
       "  <thead>\n",
       "    <tr style=\"text-align: right;\">\n",
       "      <th></th>\n",
       "      <th>brewery_id</th>\n",
       "      <th>brewery_name</th>\n",
       "      <th>review_time</th>\n",
       "      <th>review_overall</th>\n",
       "      <th>review_aroma</th>\n",
       "      <th>review_appearance</th>\n",
       "      <th>review_profilename</th>\n",
       "      <th>beer_style</th>\n",
       "      <th>review_palate</th>\n",
       "      <th>review_taste</th>\n",
       "      <th>beer_name</th>\n",
       "      <th>beer_abv</th>\n",
       "      <th>beer_beerid</th>\n",
       "    </tr>\n",
       "  </thead>\n",
       "  <tbody>\n",
       "    <tr>\n",
       "      <th>798</th>\n",
       "      <td>1075</td>\n",
       "      <td>Caldera Brewing Company</td>\n",
       "      <td>1212201268</td>\n",
       "      <td>4.5</td>\n",
       "      <td>4.5</td>\n",
       "      <td>4</td>\n",
       "      <td>grumpy</td>\n",
       "      <td>American Double / Imperial Stout</td>\n",
       "      <td>4.0</td>\n",
       "      <td>4.5</td>\n",
       "      <td>Imperial Stout</td>\n",
       "      <td>NaN</td>\n",
       "      <td>42964</td>\n",
       "    </tr>\n",
       "    <tr>\n",
       "      <th>1559</th>\n",
       "      <td>11715</td>\n",
       "      <td>Destiny Brewing Company</td>\n",
       "      <td>1137124057</td>\n",
       "      <td>4.0</td>\n",
       "      <td>3.5</td>\n",
       "      <td>4</td>\n",
       "      <td>blitheringidiot</td>\n",
       "      <td>American Pale Ale (APA)</td>\n",
       "      <td>3.5</td>\n",
       "      <td>3.5</td>\n",
       "      <td>Pale Ale</td>\n",
       "      <td>4.5</td>\n",
       "      <td>26420</td>\n",
       "    </tr>\n",
       "    <tr>\n",
       "      <th>1560</th>\n",
       "      <td>11715</td>\n",
       "      <td>Destiny Brewing Company</td>\n",
       "      <td>1129504403</td>\n",
       "      <td>4.0</td>\n",
       "      <td>2.5</td>\n",
       "      <td>4</td>\n",
       "      <td>NeroFiddled</td>\n",
       "      <td>American Pale Ale (APA)</td>\n",
       "      <td>4.0</td>\n",
       "      <td>3.5</td>\n",
       "      <td>Pale Ale</td>\n",
       "      <td>4.5</td>\n",
       "      <td>26420</td>\n",
       "    </tr>\n",
       "    <tr>\n",
       "      <th>1563</th>\n",
       "      <td>11715</td>\n",
       "      <td>Destiny Brewing Company</td>\n",
       "      <td>1137125989</td>\n",
       "      <td>3.5</td>\n",
       "      <td>3.0</td>\n",
       "      <td>4</td>\n",
       "      <td>blitheringidiot</td>\n",
       "      <td>American IPA</td>\n",
       "      <td>4.0</td>\n",
       "      <td>4.0</td>\n",
       "      <td>IPA</td>\n",
       "      <td>NaN</td>\n",
       "      <td>26132</td>\n",
       "    </tr>\n",
       "    <tr>\n",
       "      <th>1564</th>\n",
       "      <td>11715</td>\n",
       "      <td>Destiny Brewing Company</td>\n",
       "      <td>1130936611</td>\n",
       "      <td>3.0</td>\n",
       "      <td>3.0</td>\n",
       "      <td>3</td>\n",
       "      <td>Gavage</td>\n",
       "      <td>American IPA</td>\n",
       "      <td>4.0</td>\n",
       "      <td>3.5</td>\n",
       "      <td>IPA</td>\n",
       "      <td>NaN</td>\n",
       "      <td>26132</td>\n",
       "    </tr>\n",
       "  </tbody>\n",
       "</table>\n",
       "</div>"
      ],
      "text/plain": [
       "      brewery_id             brewery_name  review_time  review_overall  \\\n",
       "798         1075  Caldera Brewing Company   1212201268             4.5   \n",
       "1559       11715  Destiny Brewing Company   1137124057             4.0   \n",
       "1560       11715  Destiny Brewing Company   1129504403             4.0   \n",
       "1563       11715  Destiny Brewing Company   1137125989             3.5   \n",
       "1564       11715  Destiny Brewing Company   1130936611             3.0   \n",
       "\n",
       "      review_aroma  review_appearance review_profilename  \\\n",
       "798            4.5                  4             grumpy   \n",
       "1559           3.5                  4    blitheringidiot   \n",
       "1560           2.5                  4        NeroFiddled   \n",
       "1563           3.0                  4    blitheringidiot   \n",
       "1564           3.0                  3             Gavage   \n",
       "\n",
       "                            beer_style  review_palate  review_taste  \\\n",
       "798   American Double / Imperial Stout            4.0           4.5   \n",
       "1559           American Pale Ale (APA)            3.5           3.5   \n",
       "1560           American Pale Ale (APA)            4.0           3.5   \n",
       "1563                      American IPA            4.0           4.0   \n",
       "1564                      American IPA            4.0           3.5   \n",
       "\n",
       "           beer_name  beer_abv  beer_beerid  \n",
       "798   Imperial Stout       NaN        42964  \n",
       "1559        Pale Ale       4.5        26420  \n",
       "1560        Pale Ale       4.5        26420  \n",
       "1563             IPA       NaN        26132  \n",
       "1564             IPA       NaN        26132  "
      ]
     },
     "execution_count": 16,
     "metadata": {},
     "output_type": "execute_result"
    }
   ],
   "source": [
    "df = allbeers[allbeers.beer_name.isin(top_n)]\n",
    "df.head()"
   ]
  },
  {
   "cell_type": "markdown",
   "metadata": {},
   "source": [
    "How big is this dataset?"
   ]
  },
  {
   "cell_type": "code",
   "execution_count": 8,
   "metadata": {
    "collapsed": false
   },
   "outputs": [
    {
     "name": "stdout",
     "output_type": "stream",
     "text": [
      "<class 'pandas.core.frame.DataFrame'>\n",
      "Int64Index: 355275 entries, 798 to 1586564\n",
      "Data columns (total 13 columns):\n",
      "brewery_id            355275 non-null int64\n",
      "brewery_name          355275 non-null object\n",
      "review_time           355275 non-null int64\n",
      "review_overall        355275 non-null float64\n",
      "review_aroma          355275 non-null float64\n",
      "review_appearance     355275 non-null float64\n",
      "review_profilename    355175 non-null object\n",
      "beer_style            355275 non-null object\n",
      "review_palate         355275 non-null float64\n",
      "review_taste          355275 non-null float64\n",
      "beer_name             355275 non-null object\n",
      "beer_abv              353477 non-null float64\n",
      "beer_beerid           355275 non-null int64\n",
      "dtypes: float64(6), int64(3), object(4)\n",
      "memory usage: 37.9+ MB\n"
     ]
    }
   ],
   "source": [
    "df.info()"
   ]
  },
  {
   "cell_type": "markdown",
   "metadata": {},
   "source": [
    "### Pivot Table"
   ]
  },
  {
   "cell_type": "markdown",
   "metadata": {},
   "source": [
    "Aggregate the data in a pivot table using the pivot_table method. Display the mean review_overall for each beer_name aggregating the review_overall values by review_profilename. Use the mean as aggregator."
   ]
  },
  {
   "cell_type": "code",
   "execution_count": 24,
   "metadata": {
    "collapsed": false
   },
   "outputs": [],
   "source": [
    "df_pivot = pd.pivot_table(df, values=[\"review_overall\"],\n",
    "        columns=[\"beer_name\", \"review_profilename\"],\n",
    "        aggfunc=np.mean)"
   ]
  },
  {
   "cell_type": "code",
   "execution_count": 25,
   "metadata": {
    "collapsed": false
   },
   "outputs": [
    {
     "data": {
      "text/html": [
       "<div>\n",
       "<table border=\"1\" class=\"dataframe\">\n",
       "  <thead>\n",
       "    <tr style=\"text-align: right;\">\n",
       "      <th></th>\n",
       "      <th>review_profilename</th>\n",
       "      <th>0110x011</th>\n",
       "      <th>02maxima</th>\n",
       "      <th>03SVTCobra</th>\n",
       "      <th>05Harley</th>\n",
       "      <th>0Naught0</th>\n",
       "      <th>0beerguy0</th>\n",
       "      <th>0runkp0s</th>\n",
       "      <th>0tt0</th>\n",
       "      <th>1000Bottles</th>\n",
       "      <th>1001111.0</th>\n",
       "      <th>...</th>\n",
       "      <th>zuker</th>\n",
       "      <th>zulufactor</th>\n",
       "      <th>zumicroom</th>\n",
       "      <th>zwalk8</th>\n",
       "      <th>zwoehr</th>\n",
       "      <th>zymrgy</th>\n",
       "      <th>zymurgy4all</th>\n",
       "      <th>zymurgywhiz</th>\n",
       "      <th>zythus</th>\n",
       "      <th>zyzygy</th>\n",
       "    </tr>\n",
       "    <tr>\n",
       "      <th></th>\n",
       "      <th>beer_name</th>\n",
       "      <th></th>\n",
       "      <th></th>\n",
       "      <th></th>\n",
       "      <th></th>\n",
       "      <th></th>\n",
       "      <th></th>\n",
       "      <th></th>\n",
       "      <th></th>\n",
       "      <th></th>\n",
       "      <th></th>\n",
       "      <th></th>\n",
       "      <th></th>\n",
       "      <th></th>\n",
       "      <th></th>\n",
       "      <th></th>\n",
       "      <th></th>\n",
       "      <th></th>\n",
       "      <th></th>\n",
       "      <th></th>\n",
       "      <th></th>\n",
       "      <th></th>\n",
       "    </tr>\n",
       "  </thead>\n",
       "  <tbody>\n",
       "    <tr>\n",
       "      <th rowspan=\"5\" valign=\"top\">review_overall</th>\n",
       "      <th>#9</th>\n",
       "      <td>NaN</td>\n",
       "      <td>NaN</td>\n",
       "      <td>NaN</td>\n",
       "      <td>NaN</td>\n",
       "      <td>NaN</td>\n",
       "      <td>NaN</td>\n",
       "      <td>NaN</td>\n",
       "      <td>NaN</td>\n",
       "      <td>NaN</td>\n",
       "      <td>NaN</td>\n",
       "      <td>...</td>\n",
       "      <td>NaN</td>\n",
       "      <td>NaN</td>\n",
       "      <td>NaN</td>\n",
       "      <td>NaN</td>\n",
       "      <td>NaN</td>\n",
       "      <td>NaN</td>\n",
       "      <td>NaN</td>\n",
       "      <td>NaN</td>\n",
       "      <td>NaN</td>\n",
       "      <td>NaN</td>\n",
       "    </tr>\n",
       "    <tr>\n",
       "      <th>120 Minute IPA</th>\n",
       "      <td>NaN</td>\n",
       "      <td>NaN</td>\n",
       "      <td>NaN</td>\n",
       "      <td>4</td>\n",
       "      <td>NaN</td>\n",
       "      <td>NaN</td>\n",
       "      <td>NaN</td>\n",
       "      <td>1.5</td>\n",
       "      <td>NaN</td>\n",
       "      <td>NaN</td>\n",
       "      <td>...</td>\n",
       "      <td>NaN</td>\n",
       "      <td>NaN</td>\n",
       "      <td>NaN</td>\n",
       "      <td>NaN</td>\n",
       "      <td>NaN</td>\n",
       "      <td>NaN</td>\n",
       "      <td>NaN</td>\n",
       "      <td>NaN</td>\n",
       "      <td>NaN</td>\n",
       "      <td>NaN</td>\n",
       "    </tr>\n",
       "    <tr>\n",
       "      <th>1554 Enlightened Black Ale</th>\n",
       "      <td>NaN</td>\n",
       "      <td>NaN</td>\n",
       "      <td>NaN</td>\n",
       "      <td>NaN</td>\n",
       "      <td>NaN</td>\n",
       "      <td>NaN</td>\n",
       "      <td>NaN</td>\n",
       "      <td>NaN</td>\n",
       "      <td>NaN</td>\n",
       "      <td>NaN</td>\n",
       "      <td>...</td>\n",
       "      <td>NaN</td>\n",
       "      <td>NaN</td>\n",
       "      <td>NaN</td>\n",
       "      <td>NaN</td>\n",
       "      <td>NaN</td>\n",
       "      <td>NaN</td>\n",
       "      <td>NaN</td>\n",
       "      <td>NaN</td>\n",
       "      <td>NaN</td>\n",
       "      <td>NaN</td>\n",
       "    </tr>\n",
       "    <tr>\n",
       "      <th>60 Minute IPA</th>\n",
       "      <td>NaN</td>\n",
       "      <td>NaN</td>\n",
       "      <td>NaN</td>\n",
       "      <td>NaN</td>\n",
       "      <td>NaN</td>\n",
       "      <td>NaN</td>\n",
       "      <td>NaN</td>\n",
       "      <td>NaN</td>\n",
       "      <td>NaN</td>\n",
       "      <td>NaN</td>\n",
       "      <td>...</td>\n",
       "      <td>NaN</td>\n",
       "      <td>NaN</td>\n",
       "      <td>NaN</td>\n",
       "      <td>NaN</td>\n",
       "      <td>NaN</td>\n",
       "      <td>NaN</td>\n",
       "      <td>NaN</td>\n",
       "      <td>NaN</td>\n",
       "      <td>NaN</td>\n",
       "      <td>NaN</td>\n",
       "    </tr>\n",
       "    <tr>\n",
       "      <th>90 Minute IPA</th>\n",
       "      <td>5</td>\n",
       "      <td>NaN</td>\n",
       "      <td>NaN</td>\n",
       "      <td>4</td>\n",
       "      <td>NaN</td>\n",
       "      <td>NaN</td>\n",
       "      <td>NaN</td>\n",
       "      <td>NaN</td>\n",
       "      <td>NaN</td>\n",
       "      <td>NaN</td>\n",
       "      <td>...</td>\n",
       "      <td>NaN</td>\n",
       "      <td>NaN</td>\n",
       "      <td>NaN</td>\n",
       "      <td>NaN</td>\n",
       "      <td>NaN</td>\n",
       "      <td>NaN</td>\n",
       "      <td>NaN</td>\n",
       "      <td>NaN</td>\n",
       "      <td>NaN</td>\n",
       "      <td>NaN</td>\n",
       "    </tr>\n",
       "  </tbody>\n",
       "</table>\n",
       "<p>5 rows × 22140 columns</p>\n",
       "</div>"
      ],
      "text/plain": [
       "review_profilename                         0110x011  02maxima  03SVTCobra  \\\n",
       "               beer_name                                                    \n",
       "review_overall #9                               NaN       NaN         NaN   \n",
       "               120 Minute IPA                   NaN       NaN         NaN   \n",
       "               1554 Enlightened Black Ale       NaN       NaN         NaN   \n",
       "               60 Minute IPA                    NaN       NaN         NaN   \n",
       "               90 Minute IPA                      5       NaN         NaN   \n",
       "\n",
       "review_profilename                         05Harley  0Naught0  0beerguy0  \\\n",
       "               beer_name                                                   \n",
       "review_overall #9                               NaN       NaN        NaN   \n",
       "               120 Minute IPA                     4       NaN        NaN   \n",
       "               1554 Enlightened Black Ale       NaN       NaN        NaN   \n",
       "               60 Minute IPA                    NaN       NaN        NaN   \n",
       "               90 Minute IPA                      4       NaN        NaN   \n",
       "\n",
       "review_profilename                         0runkp0s  0tt0  1000Bottles  \\\n",
       "               beer_name                                                 \n",
       "review_overall #9                               NaN   NaN          NaN   \n",
       "               120 Minute IPA                   NaN   1.5          NaN   \n",
       "               1554 Enlightened Black Ale       NaN   NaN          NaN   \n",
       "               60 Minute IPA                    NaN   NaN          NaN   \n",
       "               90 Minute IPA                    NaN   NaN          NaN   \n",
       "\n",
       "review_profilename                         1001111.0   ...    zuker  \\\n",
       "               beer_name                               ...            \n",
       "review_overall #9                                NaN   ...      NaN   \n",
       "               120 Minute IPA                    NaN   ...      NaN   \n",
       "               1554 Enlightened Black Ale        NaN   ...      NaN   \n",
       "               60 Minute IPA                     NaN   ...      NaN   \n",
       "               90 Minute IPA                     NaN   ...      NaN   \n",
       "\n",
       "review_profilename                         zulufactor  zumicroom  zwalk8  \\\n",
       "               beer_name                                                   \n",
       "review_overall #9                                 NaN        NaN     NaN   \n",
       "               120 Minute IPA                     NaN        NaN     NaN   \n",
       "               1554 Enlightened Black Ale         NaN        NaN     NaN   \n",
       "               60 Minute IPA                      NaN        NaN     NaN   \n",
       "               90 Minute IPA                      NaN        NaN     NaN   \n",
       "\n",
       "review_profilename                         zwoehr  zymrgy  zymurgy4all  \\\n",
       "               beer_name                                                 \n",
       "review_overall #9                             NaN     NaN          NaN   \n",
       "               120 Minute IPA                 NaN     NaN          NaN   \n",
       "               1554 Enlightened Black Ale     NaN     NaN          NaN   \n",
       "               60 Minute IPA                  NaN     NaN          NaN   \n",
       "               90 Minute IPA                  NaN     NaN          NaN   \n",
       "\n",
       "review_profilename                         zymurgywhiz  zythus  zyzygy  \n",
       "               beer_name                                                \n",
       "review_overall #9                                  NaN     NaN     NaN  \n",
       "               120 Minute IPA                      NaN     NaN     NaN  \n",
       "               1554 Enlightened Black Ale          NaN     NaN     NaN  \n",
       "               60 Minute IPA                       NaN     NaN     NaN  \n",
       "               90 Minute IPA                       NaN     NaN     NaN  \n",
       "\n",
       "[5 rows x 22140 columns]"
      ]
     },
     "execution_count": 25,
     "metadata": {},
     "output_type": "execute_result"
    }
   ],
   "source": [
    "#pivot_table converts to a multi-index series. Unstack converts to a dataframe where the last index becomes our column head\n",
    "df_wide = df_pivot.unstack(-1)\n",
    "df_wide.head()"
   ]
  },
  {
   "cell_type": "markdown",
   "metadata": {},
   "source": [
    "Display the head of the pivot table, but only for 5 users (columns are users)"
   ]
  },
  {
   "cell_type": "code",
   "execution_count": 26,
   "metadata": {
    "collapsed": false
   },
   "outputs": [
    {
     "data": {
      "text/html": [
       "<div>\n",
       "<table border=\"1\" class=\"dataframe\">\n",
       "  <thead>\n",
       "    <tr style=\"text-align: right;\">\n",
       "      <th></th>\n",
       "      <th>review_profilename</th>\n",
       "      <th>0110x011</th>\n",
       "      <th>02maxima</th>\n",
       "      <th>03SVTCobra</th>\n",
       "      <th>05Harley</th>\n",
       "      <th>0Naught0</th>\n",
       "    </tr>\n",
       "    <tr>\n",
       "      <th></th>\n",
       "      <th>beer_name</th>\n",
       "      <th></th>\n",
       "      <th></th>\n",
       "      <th></th>\n",
       "      <th></th>\n",
       "      <th></th>\n",
       "    </tr>\n",
       "  </thead>\n",
       "  <tbody>\n",
       "    <tr>\n",
       "      <th rowspan=\"5\" valign=\"top\">review_overall</th>\n",
       "      <th>#9</th>\n",
       "      <td>NaN</td>\n",
       "      <td>NaN</td>\n",
       "      <td>NaN</td>\n",
       "      <td>NaN</td>\n",
       "      <td>NaN</td>\n",
       "    </tr>\n",
       "    <tr>\n",
       "      <th>120 Minute IPA</th>\n",
       "      <td>NaN</td>\n",
       "      <td>NaN</td>\n",
       "      <td>NaN</td>\n",
       "      <td>4</td>\n",
       "      <td>NaN</td>\n",
       "    </tr>\n",
       "    <tr>\n",
       "      <th>1554 Enlightened Black Ale</th>\n",
       "      <td>NaN</td>\n",
       "      <td>NaN</td>\n",
       "      <td>NaN</td>\n",
       "      <td>NaN</td>\n",
       "      <td>NaN</td>\n",
       "    </tr>\n",
       "    <tr>\n",
       "      <th>60 Minute IPA</th>\n",
       "      <td>NaN</td>\n",
       "      <td>NaN</td>\n",
       "      <td>NaN</td>\n",
       "      <td>NaN</td>\n",
       "      <td>NaN</td>\n",
       "    </tr>\n",
       "    <tr>\n",
       "      <th>90 Minute IPA</th>\n",
       "      <td>5</td>\n",
       "      <td>NaN</td>\n",
       "      <td>NaN</td>\n",
       "      <td>4</td>\n",
       "      <td>NaN</td>\n",
       "    </tr>\n",
       "  </tbody>\n",
       "</table>\n",
       "</div>"
      ],
      "text/plain": [
       "review_profilename                         0110x011  02maxima  03SVTCobra  \\\n",
       "               beer_name                                                    \n",
       "review_overall #9                               NaN       NaN         NaN   \n",
       "               120 Minute IPA                   NaN       NaN         NaN   \n",
       "               1554 Enlightened Black Ale       NaN       NaN         NaN   \n",
       "               60 Minute IPA                    NaN       NaN         NaN   \n",
       "               90 Minute IPA                      5       NaN         NaN   \n",
       "\n",
       "review_profilename                         05Harley  0Naught0  \n",
       "               beer_name                                       \n",
       "review_overall #9                               NaN       NaN  \n",
       "               120 Minute IPA                     4       NaN  \n",
       "               1554 Enlightened Black Ale       NaN       NaN  \n",
       "               60 Minute IPA                    NaN       NaN  \n",
       "               90 Minute IPA                      4       NaN  "
      ]
     },
     "execution_count": 26,
     "metadata": {},
     "output_type": "execute_result"
    }
   ],
   "source": [
    "df_wide.ix[0:5, 0:5]"
   ]
  },
  {
   "cell_type": "markdown",
   "metadata": {},
   "source": [
    "### Discussion: what do you notice in this table?"
   ]
  },
  {
   "cell_type": "markdown",
   "metadata": {},
   "source": [
    "#### Data munging\n",
    "Set Nans to zero"
   ]
  },
  {
   "cell_type": "code",
   "execution_count": 27,
   "metadata": {
    "collapsed": false
   },
   "outputs": [],
   "source": [
    "df_wide = df_wide.fillna(0)"
   ]
  },
  {
   "cell_type": "markdown",
   "metadata": {},
   "source": [
    "Check that columns are users"
   ]
  },
  {
   "cell_type": "code",
   "execution_count": 28,
   "metadata": {
    "collapsed": false
   },
   "outputs": [
    {
     "data": {
      "text/plain": [
       "Index([u'0110x011', u'02maxima', u'03SVTCobra', u'05Harley', u'0Naught0',\n",
       "       u'0beerguy0', u'0runkp0s', u'0tt0', u'1000Bottles', u'1001111.0'],\n",
       "      dtype='object', name=u'review_profilename')"
      ]
     },
     "execution_count": 28,
     "metadata": {},
     "output_type": "execute_result"
    }
   ],
   "source": [
    "df_wide.columns[:10]"
   ]
  },
  {
   "cell_type": "markdown",
   "metadata": {},
   "source": [
    "Check that rows are beers"
   ]
  },
  {
   "cell_type": "code",
   "execution_count": 29,
   "metadata": {
    "collapsed": false
   },
   "outputs": [
    {
     "data": {
      "text/plain": [
       "Index([u'#9', u'120 Minute IPA', u'1554 Enlightened Black Ale',\n",
       "       u'60 Minute IPA', u'90 Minute IPA',\n",
       "       u'Aecht Schlenkerla Rauchbier Märzen', u'AleSmith IPA',\n",
       "       u'AleSmith Speedway Stout', u'Allagash White', u'Alpha King Pale Ale',\n",
       "       ...\n",
       "       u'Vanilla Porter', u'Weihenstephaner Hefeweissbier',\n",
       "       u'Weihenstephaner Korbinian', u'Westmalle Trappist Dubbel',\n",
       "       u'Westmalle Trappist Tripel', u'World Wide Stout',\n",
       "       u'Yeti Imperial Stout', u'Young's Double Chocolate Stout',\n",
       "       u'Yuengling Traditional Lager', u'Éphémère (Apple)'],\n",
       "      dtype='object', name=u'beer_name', length=250)"
      ]
     },
     "execution_count": 29,
     "metadata": {},
     "output_type": "execute_result"
    }
   ],
   "source": [
    "df_wide.index.levels[0]\n",
    "beer_names = df_wide.index.levels[1]\n",
    "beer_names"
   ]
  },
  {
   "cell_type": "code",
   "execution_count": 35,
   "metadata": {
    "collapsed": false
   },
   "outputs": [
    {
     "data": {
      "text/html": [
       "<div>\n",
       "<table border=\"1\" class=\"dataframe\">\n",
       "  <thead>\n",
       "    <tr style=\"text-align: right;\">\n",
       "      <th></th>\n",
       "      <th>review_profilename</th>\n",
       "      <th>0110x011</th>\n",
       "      <th>02maxima</th>\n",
       "      <th>03SVTCobra</th>\n",
       "      <th>05Harley</th>\n",
       "      <th>0Naught0</th>\n",
       "      <th>0beerguy0</th>\n",
       "      <th>0runkp0s</th>\n",
       "      <th>0tt0</th>\n",
       "      <th>1000Bottles</th>\n",
       "      <th>1001111.0</th>\n",
       "      <th>...</th>\n",
       "      <th>zuker</th>\n",
       "      <th>zulufactor</th>\n",
       "      <th>zumicroom</th>\n",
       "      <th>zwalk8</th>\n",
       "      <th>zwoehr</th>\n",
       "      <th>zymrgy</th>\n",
       "      <th>zymurgy4all</th>\n",
       "      <th>zymurgywhiz</th>\n",
       "      <th>zythus</th>\n",
       "      <th>zyzygy</th>\n",
       "    </tr>\n",
       "    <tr>\n",
       "      <th></th>\n",
       "      <th>beer_name</th>\n",
       "      <th></th>\n",
       "      <th></th>\n",
       "      <th></th>\n",
       "      <th></th>\n",
       "      <th></th>\n",
       "      <th></th>\n",
       "      <th></th>\n",
       "      <th></th>\n",
       "      <th></th>\n",
       "      <th></th>\n",
       "      <th></th>\n",
       "      <th></th>\n",
       "      <th></th>\n",
       "      <th></th>\n",
       "      <th></th>\n",
       "      <th></th>\n",
       "      <th></th>\n",
       "      <th></th>\n",
       "      <th></th>\n",
       "      <th></th>\n",
       "      <th></th>\n",
       "    </tr>\n",
       "  </thead>\n",
       "  <tbody>\n",
       "    <tr>\n",
       "      <th>review_overall</th>\n",
       "      <th>#9</th>\n",
       "      <td>0</td>\n",
       "      <td>0</td>\n",
       "      <td>0</td>\n",
       "      <td>0</td>\n",
       "      <td>0</td>\n",
       "      <td>0</td>\n",
       "      <td>0</td>\n",
       "      <td>0</td>\n",
       "      <td>0</td>\n",
       "      <td>0</td>\n",
       "      <td>...</td>\n",
       "      <td>0</td>\n",
       "      <td>0</td>\n",
       "      <td>0</td>\n",
       "      <td>0</td>\n",
       "      <td>0</td>\n",
       "      <td>0</td>\n",
       "      <td>0</td>\n",
       "      <td>0</td>\n",
       "      <td>0</td>\n",
       "      <td>0</td>\n",
       "    </tr>\n",
       "  </tbody>\n",
       "</table>\n",
       "<p>1 rows × 22140 columns</p>\n",
       "</div>"
      ],
      "text/plain": [
       "review_profilename        0110x011  02maxima  03SVTCobra  05Harley  0Naught0  \\\n",
       "               beer_name                                                       \n",
       "review_overall #9                0         0           0         0         0   \n",
       "\n",
       "review_profilename        0beerguy0  0runkp0s  0tt0  1000Bottles  1001111.0  \\\n",
       "               beer_name                                                      \n",
       "review_overall #9                 0         0     0            0          0   \n",
       "\n",
       "review_profilename         ...    zuker  zulufactor  zumicroom  zwalk8  \\\n",
       "               beer_name   ...                                           \n",
       "review_overall #9          ...        0           0          0       0   \n",
       "\n",
       "review_profilename        zwoehr  zymrgy  zymurgy4all  zymurgywhiz  zythus  \\\n",
       "               beer_name                                                     \n",
       "review_overall #9              0       0            0            0       0   \n",
       "\n",
       "review_profilename        zyzygy  \n",
       "               beer_name          \n",
       "review_overall #9              0  \n",
       "\n",
       "[1 rows x 22140 columns]"
      ]
     },
     "execution_count": 35,
     "metadata": {},
     "output_type": "execute_result"
    }
   ],
   "source": [
    "df_wide.head(1)"
   ]
  },
  {
   "cell_type": "markdown",
   "metadata": {},
   "source": [
    "### Calculate distance between beers\n",
    "\n",
    "We're going to use cosine_similarity from scikit-learn to compute the distance between all beers"
   ]
  },
  {
   "cell_type": "markdown",
   "metadata": {},
   "source": [
    "Imports"
   ]
  },
  {
   "cell_type": "code",
   "execution_count": 32,
   "metadata": {
    "collapsed": false
   },
   "outputs": [],
   "source": [
    "from sklearn.metrics.pairwise import cosine_similarity\n",
    "from sklearn.metrics.pairwise import manhattan_distances\n",
    "from sklearn.metrics.pairwise import euclidean_distances"
   ]
  },
  {
   "cell_type": "markdown",
   "metadata": {},
   "source": [
    "Apply cosine similarity to df_wide to calculate pairwise distances"
   ]
  },
  {
   "cell_type": "code",
   "execution_count": 38,
   "metadata": {
    "collapsed": false
   },
   "outputs": [
    {
     "data": {
      "text/plain": [
       "array([[ 1.        ,  0.27540494,  0.27410345, ...,  0.32928048,\n",
       "         0.34805798,  0.31249922],\n",
       "       [ 0.27540494,  1.        ,  0.25151873, ...,  0.2854835 ,\n",
       "         0.23301356,  0.2802485 ],\n",
       "       [ 0.27410345,  0.25151873,  1.        , ...,  0.31629515,\n",
       "         0.22521858,  0.2737628 ],\n",
       "       ..., \n",
       "       [ 0.32928048,  0.2854835 ,  0.31629515, ...,  1.        ,\n",
       "         0.28025764,  0.34504013],\n",
       "       [ 0.34805798,  0.23301356,  0.22521858, ...,  0.28025764,\n",
       "         1.        ,  0.25526913],\n",
       "       [ 0.31249922,  0.2802485 ,  0.2737628 , ...,  0.34504013,\n",
       "         0.25526913,  1.        ]])"
      ]
     },
     "execution_count": 38,
     "metadata": {},
     "output_type": "execute_result"
    }
   ],
   "source": [
    "dists = cosine_similarity(df_wide)\n",
    "dists"
   ]
  },
  {
   "cell_type": "markdown",
   "metadata": {},
   "source": [
    "### Discussion: what type of object is dists?"
   ]
  },
  {
   "cell_type": "markdown",
   "metadata": {},
   "source": [
    "Convert dists to a Pandas DataFrame, use the index as column index as well (distances are a square matrix)."
   ]
  },
  {
   "cell_type": "code",
   "execution_count": 39,
   "metadata": {
    "collapsed": false
   },
   "outputs": [
    {
     "data": {
      "text/html": [
       "<div>\n",
       "<table border=\"1\" class=\"dataframe\">\n",
       "  <thead>\n",
       "    <tr style=\"text-align: right;\">\n",
       "      <th>beer_name</th>\n",
       "      <th>#9</th>\n",
       "      <th>120 Minute IPA</th>\n",
       "      <th>1554 Enlightened Black Ale</th>\n",
       "      <th>60 Minute IPA</th>\n",
       "      <th>90 Minute IPA</th>\n",
       "      <th>Aecht Schlenkerla Rauchbier Märzen</th>\n",
       "      <th>AleSmith IPA</th>\n",
       "      <th>AleSmith Speedway Stout</th>\n",
       "      <th>Allagash White</th>\n",
       "      <th>Alpha King Pale Ale</th>\n",
       "    </tr>\n",
       "    <tr>\n",
       "      <th>beer_name</th>\n",
       "      <th></th>\n",
       "      <th></th>\n",
       "      <th></th>\n",
       "      <th></th>\n",
       "      <th></th>\n",
       "      <th></th>\n",
       "      <th></th>\n",
       "      <th></th>\n",
       "      <th></th>\n",
       "      <th></th>\n",
       "    </tr>\n",
       "  </thead>\n",
       "  <tbody>\n",
       "    <tr>\n",
       "      <th>#9</th>\n",
       "      <td>1.000000</td>\n",
       "      <td>0.275405</td>\n",
       "      <td>0.274103</td>\n",
       "      <td>0.388364</td>\n",
       "      <td>0.365175</td>\n",
       "      <td>0.253841</td>\n",
       "      <td>0.228479</td>\n",
       "      <td>0.227612</td>\n",
       "      <td>0.340681</td>\n",
       "      <td>0.293315</td>\n",
       "    </tr>\n",
       "    <tr>\n",
       "      <th>120 Minute IPA</th>\n",
       "      <td>0.275405</td>\n",
       "      <td>1.000000</td>\n",
       "      <td>0.251519</td>\n",
       "      <td>0.378258</td>\n",
       "      <td>0.410366</td>\n",
       "      <td>0.262425</td>\n",
       "      <td>0.315971</td>\n",
       "      <td>0.337541</td>\n",
       "      <td>0.282273</td>\n",
       "      <td>0.336796</td>\n",
       "    </tr>\n",
       "    <tr>\n",
       "      <th>1554 Enlightened Black Ale</th>\n",
       "      <td>0.274103</td>\n",
       "      <td>0.251519</td>\n",
       "      <td>1.000000</td>\n",
       "      <td>0.319887</td>\n",
       "      <td>0.314028</td>\n",
       "      <td>0.252486</td>\n",
       "      <td>0.266866</td>\n",
       "      <td>0.261761</td>\n",
       "      <td>0.260275</td>\n",
       "      <td>0.307296</td>\n",
       "    </tr>\n",
       "    <tr>\n",
       "      <th>60 Minute IPA</th>\n",
       "      <td>0.388364</td>\n",
       "      <td>0.378258</td>\n",
       "      <td>0.319887</td>\n",
       "      <td>1.000000</td>\n",
       "      <td>0.533042</td>\n",
       "      <td>0.316928</td>\n",
       "      <td>0.312343</td>\n",
       "      <td>0.307627</td>\n",
       "      <td>0.360975</td>\n",
       "      <td>0.385249</td>\n",
       "    </tr>\n",
       "    <tr>\n",
       "      <th>90 Minute IPA</th>\n",
       "      <td>0.365175</td>\n",
       "      <td>0.410366</td>\n",
       "      <td>0.314028</td>\n",
       "      <td>0.533042</td>\n",
       "      <td>1.000000</td>\n",
       "      <td>0.312861</td>\n",
       "      <td>0.344218</td>\n",
       "      <td>0.358754</td>\n",
       "      <td>0.356804</td>\n",
       "      <td>0.418582</td>\n",
       "    </tr>\n",
       "    <tr>\n",
       "      <th>Aecht Schlenkerla Rauchbier Märzen</th>\n",
       "      <td>0.253841</td>\n",
       "      <td>0.262425</td>\n",
       "      <td>0.252486</td>\n",
       "      <td>0.316928</td>\n",
       "      <td>0.312861</td>\n",
       "      <td>1.000000</td>\n",
       "      <td>0.244490</td>\n",
       "      <td>0.246063</td>\n",
       "      <td>0.297672</td>\n",
       "      <td>0.263248</td>\n",
       "    </tr>\n",
       "    <tr>\n",
       "      <th>AleSmith IPA</th>\n",
       "      <td>0.228479</td>\n",
       "      <td>0.315971</td>\n",
       "      <td>0.266866</td>\n",
       "      <td>0.312343</td>\n",
       "      <td>0.344218</td>\n",
       "      <td>0.244490</td>\n",
       "      <td>1.000000</td>\n",
       "      <td>0.521889</td>\n",
       "      <td>0.277409</td>\n",
       "      <td>0.400741</td>\n",
       "    </tr>\n",
       "    <tr>\n",
       "      <th>AleSmith Speedway Stout</th>\n",
       "      <td>0.227612</td>\n",
       "      <td>0.337541</td>\n",
       "      <td>0.261761</td>\n",
       "      <td>0.307627</td>\n",
       "      <td>0.358754</td>\n",
       "      <td>0.246063</td>\n",
       "      <td>0.521889</td>\n",
       "      <td>1.000000</td>\n",
       "      <td>0.273930</td>\n",
       "      <td>0.420247</td>\n",
       "    </tr>\n",
       "    <tr>\n",
       "      <th>Allagash White</th>\n",
       "      <td>0.340681</td>\n",
       "      <td>0.282273</td>\n",
       "      <td>0.260275</td>\n",
       "      <td>0.360975</td>\n",
       "      <td>0.356804</td>\n",
       "      <td>0.297672</td>\n",
       "      <td>0.277409</td>\n",
       "      <td>0.273930</td>\n",
       "      <td>1.000000</td>\n",
       "      <td>0.295666</td>\n",
       "    </tr>\n",
       "    <tr>\n",
       "      <th>Alpha King Pale Ale</th>\n",
       "      <td>0.293315</td>\n",
       "      <td>0.336796</td>\n",
       "      <td>0.307296</td>\n",
       "      <td>0.385249</td>\n",
       "      <td>0.418582</td>\n",
       "      <td>0.263248</td>\n",
       "      <td>0.400741</td>\n",
       "      <td>0.420247</td>\n",
       "      <td>0.295666</td>\n",
       "      <td>1.000000</td>\n",
       "    </tr>\n",
       "  </tbody>\n",
       "</table>\n",
       "</div>"
      ],
      "text/plain": [
       "beer_name                                 #9  120 Minute IPA  \\\n",
       "beer_name                                                      \n",
       "#9                                  1.000000        0.275405   \n",
       "120 Minute IPA                      0.275405        1.000000   \n",
       "1554 Enlightened Black Ale          0.274103        0.251519   \n",
       "60 Minute IPA                       0.388364        0.378258   \n",
       "90 Minute IPA                       0.365175        0.410366   \n",
       "Aecht Schlenkerla Rauchbier Märzen  0.253841        0.262425   \n",
       "AleSmith IPA                        0.228479        0.315971   \n",
       "AleSmith Speedway Stout             0.227612        0.337541   \n",
       "Allagash White                      0.340681        0.282273   \n",
       "Alpha King Pale Ale                 0.293315        0.336796   \n",
       "\n",
       "beer_name                           1554 Enlightened Black Ale  60 Minute IPA  \\\n",
       "beer_name                                                                       \n",
       "#9                                                    0.274103       0.388364   \n",
       "120 Minute IPA                                        0.251519       0.378258   \n",
       "1554 Enlightened Black Ale                            1.000000       0.319887   \n",
       "60 Minute IPA                                         0.319887       1.000000   \n",
       "90 Minute IPA                                         0.314028       0.533042   \n",
       "Aecht Schlenkerla Rauchbier Märzen                    0.252486       0.316928   \n",
       "AleSmith IPA                                          0.266866       0.312343   \n",
       "AleSmith Speedway Stout                               0.261761       0.307627   \n",
       "Allagash White                                        0.260275       0.360975   \n",
       "Alpha King Pale Ale                                   0.307296       0.385249   \n",
       "\n",
       "beer_name                           90 Minute IPA  \\\n",
       "beer_name                                           \n",
       "#9                                       0.365175   \n",
       "120 Minute IPA                           0.410366   \n",
       "1554 Enlightened Black Ale               0.314028   \n",
       "60 Minute IPA                            0.533042   \n",
       "90 Minute IPA                            1.000000   \n",
       "Aecht Schlenkerla Rauchbier Märzen       0.312861   \n",
       "AleSmith IPA                             0.344218   \n",
       "AleSmith Speedway Stout                  0.358754   \n",
       "Allagash White                           0.356804   \n",
       "Alpha King Pale Ale                      0.418582   \n",
       "\n",
       "beer_name                           Aecht Schlenkerla Rauchbier Märzen  \\\n",
       "beer_name                                                                \n",
       "#9                                                            0.253841   \n",
       "120 Minute IPA                                                0.262425   \n",
       "1554 Enlightened Black Ale                                    0.252486   \n",
       "60 Minute IPA                                                 0.316928   \n",
       "90 Minute IPA                                                 0.312861   \n",
       "Aecht Schlenkerla Rauchbier Märzen                            1.000000   \n",
       "AleSmith IPA                                                  0.244490   \n",
       "AleSmith Speedway Stout                                       0.246063   \n",
       "Allagash White                                                0.297672   \n",
       "Alpha King Pale Ale                                           0.263248   \n",
       "\n",
       "beer_name                           AleSmith IPA  AleSmith Speedway Stout  \\\n",
       "beer_name                                                                   \n",
       "#9                                      0.228479                 0.227612   \n",
       "120 Minute IPA                          0.315971                 0.337541   \n",
       "1554 Enlightened Black Ale              0.266866                 0.261761   \n",
       "60 Minute IPA                           0.312343                 0.307627   \n",
       "90 Minute IPA                           0.344218                 0.358754   \n",
       "Aecht Schlenkerla Rauchbier Märzen      0.244490                 0.246063   \n",
       "AleSmith IPA                            1.000000                 0.521889   \n",
       "AleSmith Speedway Stout                 0.521889                 1.000000   \n",
       "Allagash White                          0.277409                 0.273930   \n",
       "Alpha King Pale Ale                     0.400741                 0.420247   \n",
       "\n",
       "beer_name                           Allagash White  Alpha King Pale Ale  \n",
       "beer_name                                                                \n",
       "#9                                        0.340681             0.293315  \n",
       "120 Minute IPA                            0.282273             0.336796  \n",
       "1554 Enlightened Black Ale                0.260275             0.307296  \n",
       "60 Minute IPA                             0.360975             0.385249  \n",
       "90 Minute IPA                             0.356804             0.418582  \n",
       "Aecht Schlenkerla Rauchbier Märzen        0.297672             0.263248  \n",
       "AleSmith IPA                              0.277409             0.400741  \n",
       "AleSmith Speedway Stout                   0.273930             0.420247  \n",
       "Allagash White                            1.000000             0.295666  \n",
       "Alpha King Pale Ale                       0.295666             1.000000  "
      ]
     },
     "execution_count": 39,
     "metadata": {},
     "output_type": "execute_result"
    }
   ],
   "source": [
    "dists = pd.DataFrame(dists)\n",
    "dists.columns = beer_names\n",
    "dists.index = beer_names\n",
    "dists.ix[0:10, 0:10]"
   ]
  },
  {
   "cell_type": "markdown",
   "metadata": {},
   "source": [
    "Select some beers and look their distances to other beers"
   ]
  },
  {
   "cell_type": "code",
   "execution_count": 40,
   "metadata": {
    "collapsed": false
   },
   "outputs": [
    {
     "data": {
      "text/html": [
       "<div>\n",
       "<table border=\"1\" class=\"dataframe\">\n",
       "  <thead>\n",
       "    <tr style=\"text-align: right;\">\n",
       "      <th>beer_name</th>\n",
       "      <th>Sierra Nevada Pale Ale</th>\n",
       "      <th>120 Minute IPA</th>\n",
       "      <th>Allagash White</th>\n",
       "    </tr>\n",
       "    <tr>\n",
       "      <th>beer_name</th>\n",
       "      <th></th>\n",
       "      <th></th>\n",
       "      <th></th>\n",
       "    </tr>\n",
       "  </thead>\n",
       "  <tbody>\n",
       "    <tr>\n",
       "      <th>#9</th>\n",
       "      <td>0.373968</td>\n",
       "      <td>0.275405</td>\n",
       "      <td>0.340681</td>\n",
       "    </tr>\n",
       "    <tr>\n",
       "      <th>120 Minute IPA</th>\n",
       "      <td>0.301693</td>\n",
       "      <td>1.000000</td>\n",
       "      <td>0.282273</td>\n",
       "    </tr>\n",
       "    <tr>\n",
       "      <th>1554 Enlightened Black Ale</th>\n",
       "      <td>0.330033</td>\n",
       "      <td>0.251519</td>\n",
       "      <td>0.260275</td>\n",
       "    </tr>\n",
       "    <tr>\n",
       "      <th>60 Minute IPA</th>\n",
       "      <td>0.459641</td>\n",
       "      <td>0.378258</td>\n",
       "      <td>0.360975</td>\n",
       "    </tr>\n",
       "    <tr>\n",
       "      <th>90 Minute IPA</th>\n",
       "      <td>0.441189</td>\n",
       "      <td>0.410366</td>\n",
       "      <td>0.356804</td>\n",
       "    </tr>\n",
       "  </tbody>\n",
       "</table>\n",
       "</div>"
      ],
      "text/plain": [
       "beer_name                   Sierra Nevada Pale Ale  120 Minute IPA  \\\n",
       "beer_name                                                            \n",
       "#9                                        0.373968        0.275405   \n",
       "120 Minute IPA                            0.301693        1.000000   \n",
       "1554 Enlightened Black Ale                0.330033        0.251519   \n",
       "60 Minute IPA                             0.459641        0.378258   \n",
       "90 Minute IPA                             0.441189        0.410366   \n",
       "\n",
       "beer_name                   Allagash White  \n",
       "beer_name                                   \n",
       "#9                                0.340681  \n",
       "120 Minute IPA                    0.282273  \n",
       "1554 Enlightened Black Ale        0.260275  \n",
       "60 Minute IPA                     0.360975  \n",
       "90 Minute IPA                     0.356804  "
      ]
     },
     "execution_count": 40,
     "metadata": {},
     "output_type": "execute_result"
    }
   ],
   "source": [
    "beers_i_like = ['Sierra Nevada Pale Ale', '120 Minute IPA', 'Allagash White']\n",
    "dists[beers_i_like].head()"
   ]
  },
  {
   "cell_type": "markdown",
   "metadata": {},
   "source": [
    "Sum the distances of my favourite beers by row, to have one distance from each beer in the sample"
   ]
  },
  {
   "cell_type": "code",
   "execution_count": 47,
   "metadata": {
    "collapsed": false
   },
   "outputs": [],
   "source": [
    "beers_summed = dists[beers_i_like].apply(lambda row: np.sum(row), axis=1)\n",
    "# beers_summed = np.sum(dists[beers_i_like], axis=1)"
   ]
  },
  {
   "cell_type": "markdown",
   "metadata": {},
   "source": [
    "#### Performance"
   ]
  },
  {
   "cell_type": "markdown",
   "metadata": {},
   "source": [
    "Optional: which one is faster? use ```%timeit``` to check"
   ]
  },
  {
   "cell_type": "code",
   "execution_count": 48,
   "metadata": {
    "collapsed": false
   },
   "outputs": [
    {
     "name": "stdout",
     "output_type": "stream",
     "text": [
      "100 loops, best of 3: 12.3 ms per loop\n"
     ]
    }
   ],
   "source": [
    "%timeit dists[beers_i_like].apply(lambda row: np.sum(row), axis=1)"
   ]
  },
  {
   "cell_type": "code",
   "execution_count": 49,
   "metadata": {
    "collapsed": false
   },
   "outputs": [
    {
     "name": "stdout",
     "output_type": "stream",
     "text": [
      "1000 loops, best of 3: 637 µs per loop\n"
     ]
    }
   ],
   "source": [
    "%timeit np.sum(dists[beers_i_like], axis=1)"
   ]
  },
  {
   "cell_type": "markdown",
   "metadata": {},
   "source": [
    "#### Ranking"
   ]
  },
  {
   "cell_type": "markdown",
   "metadata": {},
   "source": [
    "Sort summed beers from best to worse"
   ]
  },
  {
   "cell_type": "code",
   "execution_count": 50,
   "metadata": {
    "collapsed": false
   },
   "outputs": [
    {
     "name": "stderr",
     "output_type": "stream",
     "text": [
      "/Users/Analytics/anaconda/lib/python2.7/site-packages/ipykernel/__main__.py:1: FutureWarning: order is deprecated, use sort_values(...)\n",
      "  if __name__ == '__main__':\n"
     ]
    },
    {
     "data": {
      "text/plain": [
       "beer_name\n",
       "Sierra Nevada Pale Ale                        1.654205\n",
       "Allagash White                                1.634784\n",
       "120 Minute IPA                                1.583966\n",
       "HopDevil Ale                                  1.224217\n",
       "Sierra Nevada Celebration Ale                 1.215156\n",
       "90 Minute IPA                                 1.208359\n",
       "60 Minute IPA                                 1.198874\n",
       "Stone Ruination IPA                           1.194210\n",
       "Stone IPA (India Pale Ale)                    1.193193\n",
       "Storm King Stout                              1.192405\n",
       "Arrogant Bastard Ale                          1.189981\n",
       "Sierra Nevada Bigfoot Barleywine Style Ale    1.178245\n",
       "Prima Pils                                    1.178093\n",
       "Brooklyn Black Chocolate Stout                1.156365\n",
       "Ayinger Celebrator Doppelbock                 1.148356\n",
       "Hennepin (Farmhouse Saison)                   1.147501\n",
       "Samuel Adams Boston Lager                     1.146304\n",
       "Hop Rod Rye                                   1.140271\n",
       "Old Rasputin Russian Imperial Stout           1.136691\n",
       "La Fin Du Monde                               1.128933\n",
       "Hop Wallop                                    1.127292\n",
       "Double Bastard Ale                            1.123117\n",
       "Two Hearted Ale                               1.120865\n",
       "Stone Smoked Porter                           1.115290\n",
       "St. Bernardus Abt 12                          1.109141\n",
       "Schneider Aventinus                           1.106357\n",
       "India Pale Ale                                1.104981\n",
       "Stone Imperial Russian Stout                  1.102951\n",
       "Anchor Steam Beer                             1.101660\n",
       "Duvel                                         1.099554\n",
       "                                                ...   \n",
       "Samuel Adams Cherry Wheat                     0.813352\n",
       "Sculpin India Pale Ale                        0.803009\n",
       "Blind Pig IPA                                 0.796287\n",
       "Red Stripe Jamaican Lager                     0.793733\n",
       "Left Hand Milk Stout                          0.791853\n",
       "Creme Brulee (Imperial Milk Stout)            0.791077\n",
       "Black Butte Porter                            0.789189\n",
       "Boddingtons Pub Ale                           0.788361\n",
       "Imperial IPA                                  0.785819\n",
       "Dark Lord Imperial Stout                      0.782857\n",
       "Murphy's Irish Stout                          0.782647\n",
       "Founders Backwoods Bastard                    0.779792\n",
       "Founders Porter                               0.764203\n",
       "Pabst Blue Ribbon (PBR)                       0.760712\n",
       "Supplication                                  0.760145\n",
       "Budweiser                                     0.758390\n",
       "Furious                                       0.757417\n",
       "New Holland Dragon's Milk Oak Barrel Ale      0.756746\n",
       "Raging Bitch Belgian-Style IPA                0.752031\n",
       "Terrapin Coffee Oatmeal Imperial Stout        0.750240\n",
       "Hobgoblin                                     0.748117\n",
       "Shiner Bock                                   0.739454\n",
       "The Abyss                                     0.723008\n",
       "Miller Lite                                   0.716208\n",
       "Leinenkugel's Sunset Wheat                    0.710691\n",
       "Bud Light                                     0.710377\n",
       "Corona Extra                                  0.682882\n",
       "Miller High Life                              0.682360\n",
       "Coors Light                                   0.670167\n",
       "Vanilla Porter                                0.664363\n",
       "dtype: float64"
      ]
     },
     "execution_count": 50,
     "metadata": {},
     "output_type": "execute_result"
    }
   ],
   "source": [
    "beers_summed = beers_summed.order(ascending=False)\n",
    "beers_summed"
   ]
  },
  {
   "cell_type": "markdown",
   "metadata": {},
   "source": [
    "Filter out the beers used as input and transform to list"
   ]
  },
  {
   "cell_type": "code",
   "execution_count": 53,
   "metadata": {
    "collapsed": false
   },
   "outputs": [
    {
     "data": {
      "text/plain": [
       "['HopDevil Ale',\n",
       " 'Sierra Nevada Celebration Ale',\n",
       " '90 Minute IPA',\n",
       " '60 Minute IPA',\n",
       " 'Stone Ruination IPA',\n",
       " 'Stone IPA (India Pale Ale)',\n",
       " 'Storm King Stout',\n",
       " 'Arrogant Bastard Ale',\n",
       " 'Sierra Nevada Bigfoot Barleywine Style Ale',\n",
       " 'Prima Pils']"
      ]
     },
     "execution_count": 53,
     "metadata": {},
     "output_type": "execute_result"
    }
   ],
   "source": [
    "ranked_beers = beers_summed.index[~beers_summed.index.isin(beers_i_like)]\n",
    "ranked_beers = ranked_beers.tolist()\n",
    "ranked_beers[:10]"
   ]
  },
  {
   "cell_type": "markdown",
   "metadata": {},
   "source": [
    "### Pair Programming!\n",
    "\n",
    "Define a function that does what we just did for an arbitrary input list of beers. it should also receive the maximum number of beers requested n as optional parameter."
   ]
  },
  {
   "cell_type": "code",
   "execution_count": 56,
   "metadata": {
    "collapsed": false
   },
   "outputs": [],
   "source": [
    "def get_similar(beers, n=None):\n",
    "    \"\"\"\n",
    "    calculates which beers are most similar to the beers provided. Does not return\n",
    "    the beers that were provided\n",
    "    \n",
    "    Parameters\n",
    "    ----------\n",
    "    beers: list\n",
    "        some beers!\n",
    "    \n",
    "    Returns\n",
    "    -------\n",
    "    ranked_beers: list\n",
    "        rank ordered beers\n",
    "    \"\"\"\n",
    "    \n",
    "#     beers2 = []\n",
    "#     for beer in beers:\n",
    "#         if beer in dists.columns\n",
    "#             beers2.append(beer)\n",
    "    \n",
    "    beers = [beer for beer in beers if beer in dists.columns]\n",
    "    beers_summed = dists[beers].apply(lambda row: np.sum(row), axis=1)\n",
    "    beers_summed = beers_summed.order(ascending=False)\n",
    "    ranked_beers = beers_summed.index[beers_summed.index.isin(beers)==False]\n",
    "    ranked_beers = ranked_beers.tolist()\n",
    "    if n is None:\n",
    "        return ranked_beers\n",
    "    else:\n",
    "        return ranked_beers[:n]"
   ]
  },
  {
   "cell_type": "markdown",
   "metadata": {},
   "source": [
    "Test your function. Find the 10 beers most similar to \"120 Minute IPA\""
   ]
  },
  {
   "cell_type": "code",
   "execution_count": 58,
   "metadata": {
    "collapsed": false
   },
   "outputs": [
    {
     "name": "stderr",
     "output_type": "stream",
     "text": [
      "/Users/Analytics/anaconda/lib/python2.7/site-packages/ipykernel/__main__.py:24: FutureWarning: order is deprecated, use sort_values(...)\n"
     ]
    },
    {
     "data": {
      "text/plain": [
       "['World Wide Stout',\n",
       " '90 Minute IPA',\n",
       " 'Double Bastard Ale',\n",
       " 'Stone Ruination IPA',\n",
       " 'Stone Imperial Russian Stout',\n",
       " 'Storm King Stout',\n",
       " '60 Minute IPA',\n",
       " 'Oaked Arrogant Bastard Ale',\n",
       " 'Sierra Nevada Bigfoot Barleywine Style Ale',\n",
       " 'Brooklyn Black Chocolate Stout']"
      ]
     },
     "execution_count": 58,
     "metadata": {},
     "output_type": "execute_result"
    }
   ],
   "source": [
    "get_similar([\"120 Minute IPA\"], 10)"
   ]
  },
  {
   "cell_type": "code",
   "execution_count": 57,
   "metadata": {
    "collapsed": false
   },
   "outputs": [
    {
     "name": "stdout",
     "output_type": "stream",
     "text": [
      "World Wide Stout\n",
      "90 Minute IPA\n",
      "Double Bastard Ale\n",
      "Stone Ruination IPA\n",
      "Stone Imperial Russian Stout\n",
      "Storm King Stout\n",
      "60 Minute IPA\n",
      "Oaked Arrogant Bastard Ale\n",
      "Sierra Nevada Bigfoot Barleywine Style Ale\n",
      "Brooklyn Black Chocolate Stout\n"
     ]
    },
    {
     "name": "stderr",
     "output_type": "stream",
     "text": [
      "/Users/Analytics/anaconda/lib/python2.7/site-packages/ipykernel/__main__.py:24: FutureWarning: order is deprecated, use sort_values(...)\n"
     ]
    }
   ],
   "source": [
    "for beer in get_similar([\"120 Minute IPA\"], 10):\n",
    "    print beer"
   ]
  },
  {
   "cell_type": "markdown",
   "metadata": {},
   "source": [
    "Try again with the 10 beers most similar to [\"Coors Light\", \"Bud Light\", \"Amstel Light\"]"
   ]
  },
  {
   "cell_type": "code",
   "execution_count": 59,
   "metadata": {
    "collapsed": false
   },
   "outputs": [
    {
     "name": "stdout",
     "output_type": "stream",
     "text": [
      "1) Miller Lite\n",
      "2) Budweiser\n",
      "3) Corona Extra\n",
      "4) Samuel Adams Boston Lager\n",
      "5) Heineken Lager Beer\n",
      "6) Blue Moon Belgian White\n",
      "7) Guinness Draught\n",
      "8) Miller High Life\n",
      "9) Samuel Adams Summer Ale\n",
      "10) Sierra Nevada Pale Ale\n"
     ]
    },
    {
     "name": "stderr",
     "output_type": "stream",
     "text": [
      "/Users/Analytics/anaconda/lib/python2.7/site-packages/ipykernel/__main__.py:24: FutureWarning: order is deprecated, use sort_values(...)\n"
     ]
    }
   ],
   "source": [
    "for i, beer in enumerate(get_similar([\"Coors Light\", \"Bud Light\", \"Amstel Light\"], 10)):\n",
    "    print \"%d) %s\" % (i+1, beer)"
   ]
  },
  {
   "cell_type": "markdown",
   "metadata": {},
   "source": [
    "Optional: register an account on yhat and deploy your model following the instructions [here](https://docs.yhathq.com/python/examples/beer-recommender) and [here](http://nbviewer.ipython.org/gist/glamp/20a18d52c539b87de2af)"
   ]
  },
  {
   "cell_type": "markdown",
   "metadata": {},
   "source": [
    "## Recsys\n",
    "\n",
    "A python library for implementing a recommender system. If you'd like to, I recommend you explore this project. It's an efficient way to get a recommendation engine off the ground. The example below uses SVD."
   ]
  },
  {
   "cell_type": "code",
   "execution_count": null,
   "metadata": {
    "collapsed": false
   },
   "outputs": [],
   "source": [
    "\"\"\"\n",
    "##install python-recsys\n",
    "\n",
    "### first install dependencies\n",
    "\n",
    "pip install csc-pysparse networkx divisi2\n",
    "\n",
    "### then install recsys\n",
    "git clone https://github.com/python-recsys/python-recsys.git\n",
    "cd python-recsys/\n",
    "\n",
    "python setup.py install\n",
    "\"\"\""
   ]
  },
  {
   "cell_type": "code",
   "execution_count": null,
   "metadata": {
    "collapsed": true
   },
   "outputs": [],
   "source": [
    "! pip install csc-pysparse networkx divisi2"
   ]
  },
  {
   "cell_type": "markdown",
   "metadata": {},
   "source": [
    "Load recsys.algotihm, set VERBOSE = True import SVD class"
   ]
  },
  {
   "cell_type": "code",
   "execution_count": 60,
   "metadata": {
    "collapsed": false
   },
   "outputs": [],
   "source": [
    "import recsys.algorithm\n",
    "recsys.algorithm.VERBOSE = True\n",
    "from recsys.algorithm.factorize import SVD"
   ]
  },
  {
   "cell_type": "markdown",
   "metadata": {},
   "source": [
    "Let's look at the files"
   ]
  },
  {
   "cell_type": "code",
   "execution_count": 61,
   "metadata": {
    "collapsed": false
   },
   "outputs": [
    {
     "name": "stdout",
     "output_type": "stream",
     "text": [
      "README      movies.dat  ratings.dat users.dat\r\n"
     ]
    }
   ],
   "source": [
    "! ls ../data/movielens/"
   ]
  },
  {
   "cell_type": "markdown",
   "metadata": {},
   "source": [
    "Import 'movies.dat' to a 'movies' pandas dataframe. Make sure you name the columns, use the correct separator and define the index."
   ]
  },
  {
   "cell_type": "code",
   "execution_count": 62,
   "metadata": {
    "collapsed": false
   },
   "outputs": [],
   "source": [
    "movies = pd.read_table('../data/movielens/movies.dat', sep='::', engine='python',\n",
    "                       names= ['ITEMID', 'Title', 'Genres'], index_col= 'ITEMID')"
   ]
  },
  {
   "cell_type": "code",
   "execution_count": 63,
   "metadata": {
    "collapsed": false
   },
   "outputs": [
    {
     "data": {
      "text/html": [
       "<div>\n",
       "<table border=\"1\" class=\"dataframe\">\n",
       "  <thead>\n",
       "    <tr style=\"text-align: right;\">\n",
       "      <th></th>\n",
       "      <th>Title</th>\n",
       "      <th>Genres</th>\n",
       "    </tr>\n",
       "    <tr>\n",
       "      <th>ITEMID</th>\n",
       "      <th></th>\n",
       "      <th></th>\n",
       "    </tr>\n",
       "  </thead>\n",
       "  <tbody>\n",
       "    <tr>\n",
       "      <th>1</th>\n",
       "      <td>Toy Story (1995)</td>\n",
       "      <td>Animation|Children's|Comedy</td>\n",
       "    </tr>\n",
       "    <tr>\n",
       "      <th>2</th>\n",
       "      <td>Jumanji (1995)</td>\n",
       "      <td>Adventure|Children's|Fantasy</td>\n",
       "    </tr>\n",
       "    <tr>\n",
       "      <th>3</th>\n",
       "      <td>Grumpier Old Men (1995)</td>\n",
       "      <td>Comedy|Romance</td>\n",
       "    </tr>\n",
       "    <tr>\n",
       "      <th>4</th>\n",
       "      <td>Waiting to Exhale (1995)</td>\n",
       "      <td>Comedy|Drama</td>\n",
       "    </tr>\n",
       "    <tr>\n",
       "      <th>5</th>\n",
       "      <td>Father of the Bride Part II (1995)</td>\n",
       "      <td>Comedy</td>\n",
       "    </tr>\n",
       "  </tbody>\n",
       "</table>\n",
       "</div>"
      ],
      "text/plain": [
       "                                     Title                        Genres\n",
       "ITEMID                                                                  \n",
       "1                         Toy Story (1995)   Animation|Children's|Comedy\n",
       "2                           Jumanji (1995)  Adventure|Children's|Fantasy\n",
       "3                  Grumpier Old Men (1995)                Comedy|Romance\n",
       "4                 Waiting to Exhale (1995)                  Comedy|Drama\n",
       "5       Father of the Bride Part II (1995)                        Comedy"
      ]
     },
     "execution_count": 63,
     "metadata": {},
     "output_type": "execute_result"
    }
   ],
   "source": [
    "movies.head()"
   ]
  },
  {
   "cell_type": "markdown",
   "metadata": {},
   "source": [
    "Import 'ratings.dat' to a 'ratings' pandas dataframe. Make sure you name the columns, use the correct separator."
   ]
  },
  {
   "cell_type": "code",
   "execution_count": 64,
   "metadata": {
    "collapsed": false
   },
   "outputs": [],
   "source": [
    "ratings = pd.read_table('../data/movielens/ratings.dat', sep='::', engine='python',\n",
    "                        names= ['UserID','MovieID','Rating','Timestamp'])"
   ]
  },
  {
   "cell_type": "code",
   "execution_count": 65,
   "metadata": {
    "collapsed": false
   },
   "outputs": [
    {
     "data": {
      "text/html": [
       "<div>\n",
       "<table border=\"1\" class=\"dataframe\">\n",
       "  <thead>\n",
       "    <tr style=\"text-align: right;\">\n",
       "      <th></th>\n",
       "      <th>UserID</th>\n",
       "      <th>MovieID</th>\n",
       "      <th>Rating</th>\n",
       "      <th>Timestamp</th>\n",
       "    </tr>\n",
       "  </thead>\n",
       "  <tbody>\n",
       "    <tr>\n",
       "      <th>0</th>\n",
       "      <td>1</td>\n",
       "      <td>1193</td>\n",
       "      <td>5</td>\n",
       "      <td>978300760</td>\n",
       "    </tr>\n",
       "    <tr>\n",
       "      <th>1</th>\n",
       "      <td>1</td>\n",
       "      <td>661</td>\n",
       "      <td>3</td>\n",
       "      <td>978302109</td>\n",
       "    </tr>\n",
       "    <tr>\n",
       "      <th>2</th>\n",
       "      <td>1</td>\n",
       "      <td>914</td>\n",
       "      <td>3</td>\n",
       "      <td>978301968</td>\n",
       "    </tr>\n",
       "    <tr>\n",
       "      <th>3</th>\n",
       "      <td>1</td>\n",
       "      <td>3408</td>\n",
       "      <td>4</td>\n",
       "      <td>978300275</td>\n",
       "    </tr>\n",
       "    <tr>\n",
       "      <th>4</th>\n",
       "      <td>1</td>\n",
       "      <td>2355</td>\n",
       "      <td>5</td>\n",
       "      <td>978824291</td>\n",
       "    </tr>\n",
       "  </tbody>\n",
       "</table>\n",
       "</div>"
      ],
      "text/plain": [
       "   UserID  MovieID  Rating  Timestamp\n",
       "0       1     1193       5  978300760\n",
       "1       1      661       3  978302109\n",
       "2       1      914       3  978301968\n",
       "3       1     3408       4  978300275\n",
       "4       1     2355       5  978824291"
      ]
     },
     "execution_count": 65,
     "metadata": {},
     "output_type": "execute_result"
    }
   ],
   "source": [
    "ratings.head()"
   ]
  },
  {
   "cell_type": "markdown",
   "metadata": {},
   "source": [
    "Initialize an SVD instance"
   ]
  },
  {
   "cell_type": "code",
   "execution_count": 67,
   "metadata": {
    "collapsed": false
   },
   "outputs": [],
   "source": [
    "svd = SVD()"
   ]
  },
  {
   "cell_type": "markdown",
   "metadata": {},
   "source": [
    "Populate it with the data from the ratings dataset, using the built in load_data method"
   ]
  },
  {
   "cell_type": "code",
   "execution_count": 68,
   "metadata": {
    "collapsed": false
   },
   "outputs": [
    {
     "name": "stdout",
     "output_type": "stream",
     "text": [
      "Loading ../data/movielens/ratings.dat\n",
      "..........|\n"
     ]
    }
   ],
   "source": [
    "svd.load_data(filename='../data/movielens/ratings.dat', sep='::', format={'col':0, 'row':1, 'value':2, 'ids': int})"
   ]
  },
  {
   "cell_type": "markdown",
   "metadata": {},
   "source": [
    "Compute SVD\n",
    "\n",
    "$M=U \\Sigma V^T$:"
   ]
  },
  {
   "cell_type": "code",
   "execution_count": 69,
   "metadata": {
    "collapsed": false
   },
   "outputs": [
    {
     "name": "stdout",
     "output_type": "stream",
     "text": [
      "Creating matrix (1000209 tuples)\n",
      "Matrix density is: 4.4684%\n",
      "Updating matrix: squish to at least 10 values\n",
      "Computing svd k=100, min_values=10, pre_normalize=None, mean_center=True, post_normalize=True\n",
      "[WARNING] mean_center is True. svd.similar(...) might return nan's. If so, then do svd.compute(..., mean_center=False)\n"
     ]
    }
   ],
   "source": [
    "k = 100\n",
    "svd.compute(k=k, min_values=10, pre_normalize=None, mean_center=True, post_normalize=True)"
   ]
  },
  {
   "cell_type": "markdown",
   "metadata": {},
   "source": [
    "you can also save the output SVD model (in a zip file)"
   ]
  },
  {
   "cell_type": "code",
   "execution_count": null,
   "metadata": {
    "collapsed": false
   },
   "outputs": [],
   "source": [
    "# svd.compute(k=k, min_values=10, pre_normalize=None, mean_center=True, post_normalize=True, savefile='/tmp/movielens')"
   ]
  },
  {
   "cell_type": "markdown",
   "metadata": {},
   "source": [
    "Reload a saved model:"
   ]
  },
  {
   "cell_type": "code",
   "execution_count": null,
   "metadata": {
    "collapsed": false
   },
   "outputs": [],
   "source": [
    "# svd2 = SVD(filename='/tmp/movielens')"
   ]
  },
  {
   "cell_type": "markdown",
   "metadata": {},
   "source": [
    "Find the ITEMID number for \"Toy Story (1995)\""
   ]
  },
  {
   "cell_type": "code",
   "execution_count": 70,
   "metadata": {
    "collapsed": false
   },
   "outputs": [
    {
     "data": {
      "text/html": [
       "<div>\n",
       "<table border=\"1\" class=\"dataframe\">\n",
       "  <thead>\n",
       "    <tr style=\"text-align: right;\">\n",
       "      <th></th>\n",
       "      <th>Title</th>\n",
       "      <th>Genres</th>\n",
       "    </tr>\n",
       "    <tr>\n",
       "      <th>ITEMID</th>\n",
       "      <th></th>\n",
       "      <th></th>\n",
       "    </tr>\n",
       "  </thead>\n",
       "  <tbody>\n",
       "    <tr>\n",
       "      <th>1</th>\n",
       "      <td>Toy Story (1995)</td>\n",
       "      <td>Animation|Children's|Comedy</td>\n",
       "    </tr>\n",
       "  </tbody>\n",
       "</table>\n",
       "</div>"
      ],
      "text/plain": [
       "                   Title                       Genres\n",
       "ITEMID                                               \n",
       "1       Toy Story (1995)  Animation|Children's|Comedy"
      ]
     },
     "execution_count": 70,
     "metadata": {},
     "output_type": "execute_result"
    }
   ],
   "source": [
    "movies[movies.Title == \"Toy Story (1995)\"]"
   ]
  },
  {
   "cell_type": "markdown",
   "metadata": {},
   "source": [
    "Find the ITEMID number for \"Bug's Life, A (1998)\""
   ]
  },
  {
   "cell_type": "code",
   "execution_count": 71,
   "metadata": {
    "collapsed": false
   },
   "outputs": [
    {
     "data": {
      "text/html": [
       "<div>\n",
       "<table border=\"1\" class=\"dataframe\">\n",
       "  <thead>\n",
       "    <tr style=\"text-align: right;\">\n",
       "      <th></th>\n",
       "      <th>Title</th>\n",
       "      <th>Genres</th>\n",
       "    </tr>\n",
       "    <tr>\n",
       "      <th>ITEMID</th>\n",
       "      <th></th>\n",
       "      <th></th>\n",
       "    </tr>\n",
       "  </thead>\n",
       "  <tbody>\n",
       "    <tr>\n",
       "      <th>2355</th>\n",
       "      <td>Bug's Life, A (1998)</td>\n",
       "      <td>Animation|Children's|Comedy</td>\n",
       "    </tr>\n",
       "  </tbody>\n",
       "</table>\n",
       "</div>"
      ],
      "text/plain": [
       "                       Title                       Genres\n",
       "ITEMID                                                   \n",
       "2355    Bug's Life, A (1998)  Animation|Children's|Comedy"
      ]
     },
     "execution_count": 71,
     "metadata": {},
     "output_type": "execute_result"
    }
   ],
   "source": [
    "movies[movies.Title == \"Bug's Life, A (1998)\"]"
   ]
  },
  {
   "cell_type": "markdown",
   "metadata": {},
   "source": [
    "Compute similarity between the two movies"
   ]
  },
  {
   "cell_type": "code",
   "execution_count": 72,
   "metadata": {
    "collapsed": false
   },
   "outputs": [
    {
     "name": "stdout",
     "output_type": "stream",
     "text": [
      "0.677069366773\n"
     ]
    }
   ],
   "source": [
    "ITEMID1 = 1    # Toy Story (1995)\n",
    "ITEMID2 = 2355 # A bug's life (1998)\n",
    "print svd.similarity(ITEMID1, ITEMID2)\n",
    "# print svd2.similarity(ITEMID1, ITEMID2) to check"
   ]
  },
  {
   "cell_type": "markdown",
   "metadata": {},
   "source": [
    "Get movies similar to Toy Story"
   ]
  },
  {
   "cell_type": "code",
   "execution_count": 73,
   "metadata": {
    "collapsed": false
   },
   "outputs": [
    {
     "data": {
      "text/plain": [
       "[(1, 0.99999999999999978),\n",
       " (3114, 0.87060391051017305),\n",
       " (2355, 0.67706936677314977),\n",
       " (588, 0.58073514967544992),\n",
       " (595, 0.46031829709744226),\n",
       " (1907, 0.44589398718134982),\n",
       " (364, 0.42908159895577563),\n",
       " (2081, 0.42566581277822413),\n",
       " (3396, 0.42474056361934953),\n",
       " (2761, 0.40439361857576017)]"
      ]
     },
     "execution_count": 73,
     "metadata": {},
     "output_type": "execute_result"
    }
   ],
   "source": [
    "svd.similar(ITEMID1)"
   ]
  },
  {
   "cell_type": "code",
   "execution_count": 74,
   "metadata": {
    "collapsed": false
   },
   "outputs": [
    {
     "data": {
      "text/html": [
       "<div>\n",
       "<table border=\"1\" class=\"dataframe\">\n",
       "  <thead>\n",
       "    <tr style=\"text-align: right;\">\n",
       "      <th></th>\n",
       "      <th>Title</th>\n",
       "      <th>Genres</th>\n",
       "    </tr>\n",
       "    <tr>\n",
       "      <th>ITEMID</th>\n",
       "      <th></th>\n",
       "      <th></th>\n",
       "    </tr>\n",
       "  </thead>\n",
       "  <tbody>\n",
       "    <tr>\n",
       "      <th>3114</th>\n",
       "      <td>Toy Story 2 (1999)</td>\n",
       "      <td>Animation|Children's|Comedy</td>\n",
       "    </tr>\n",
       "  </tbody>\n",
       "</table>\n",
       "</div>"
      ],
      "text/plain": [
       "                     Title                       Genres\n",
       "ITEMID                                                 \n",
       "3114    Toy Story 2 (1999)  Animation|Children's|Comedy"
      ]
     },
     "execution_count": 74,
     "metadata": {},
     "output_type": "execute_result"
    }
   ],
   "source": [
    "movies[movies.index == 3114]"
   ]
  },
  {
   "cell_type": "markdown",
   "metadata": {},
   "source": [
    "Predict rating for a given user and movie, $\\hat{r}_{ui}$"
   ]
  },
  {
   "cell_type": "code",
   "execution_count": 81,
   "metadata": {
    "collapsed": false
   },
   "outputs": [],
   "source": [
    "# ratings[(ratings.UserID == 1) & (ratings.Rating == 5)]\n",
    "# ratings.columns"
   ]
  },
  {
   "cell_type": "code",
   "execution_count": 75,
   "metadata": {
    "collapsed": false
   },
   "outputs": [
    {
     "data": {
      "text/plain": [
       "0.4184753912879975"
      ]
     },
     "execution_count": 75,
     "metadata": {},
     "output_type": "execute_result"
    }
   ],
   "source": [
    "MIN_RATING = 0.0\n",
    "MAX_RATING = 5.0\n",
    "ITEMID = 1\n",
    "USERID = 1\n",
    "svd.predict(ITEMID, USERID, MIN_RATING, MAX_RATING)"
   ]
  },
  {
   "cell_type": "code",
   "execution_count": 82,
   "metadata": {
    "collapsed": false
   },
   "outputs": [
    {
     "data": {
      "text/plain": [
       "5.0"
      ]
     },
     "execution_count": 82,
     "metadata": {},
     "output_type": "execute_result"
    }
   ],
   "source": [
    "svd.get_matrix().value(ITEMID, USERID)"
   ]
  },
  {
   "cell_type": "markdown",
   "metadata": {},
   "source": [
    "Recommend non rated movies to a user"
   ]
  },
  {
   "cell_type": "code",
   "execution_count": 83,
   "metadata": {
    "collapsed": false
   },
   "outputs": [
    {
     "data": {
      "text/plain": [
       "[(2028, 0.45838722229605749),\n",
       " (588, 0.45287857189578218),\n",
       " (2355, 0.44697663823650841),\n",
       " (1, 0.41847539128799754),\n",
       " (1270, 0.40013341110578188),\n",
       " (595, 0.39817047564748465),\n",
       " (3114, 0.350362373663273),\n",
       " (2081, 0.33304503503062838),\n",
       " (1028, 0.30235395172222146),\n",
       " (1022, 0.29397815928755949)]"
      ]
     },
     "execution_count": 83,
     "metadata": {},
     "output_type": "execute_result"
    }
   ],
   "source": [
    "svd.recommend(USERID, is_row=False)"
   ]
  },
  {
   "cell_type": "markdown",
   "metadata": {},
   "source": [
    "Which users should see Toy Story? (e.g. which users -that have not rated Toy Story- would give it a high rating?)"
   ]
  },
  {
   "cell_type": "code",
   "execution_count": 84,
   "metadata": {
    "collapsed": false
   },
   "outputs": [
    {
     "data": {
      "text/plain": [
       "[(869, 2.7394216256490114),\n",
       " (2665, 2.2004400024959092),\n",
       " (752, 1.9618180538975938),\n",
       " (549, 1.9166639938673289),\n",
       " (4658, 1.8573329306267834),\n",
       " (1676, 1.8365921315977307),\n",
       " (5367, 1.8274104251775871),\n",
       " (1125, 1.8165883560823974),\n",
       " (3401, 1.8143381602190169),\n",
       " (2611, 1.6641920276301048)]"
      ]
     },
     "execution_count": 84,
     "metadata": {},
     "output_type": "execute_result"
    }
   ],
   "source": [
    "svd.recommend(ITEMID)"
   ]
  },
  {
   "cell_type": "markdown",
   "metadata": {},
   "source": [
    "Find out more here: [https://github.com/ocelma/python-recsys](https://github.com/ocelma/python-recsys)"
   ]
  }
 ],
 "metadata": {
  "kernelspec": {
   "display_name": "Python 2",
   "language": "python",
   "name": "python2"
  },
  "language_info": {
   "codemirror_mode": {
    "name": "ipython",
    "version": 2
   },
   "file_extension": ".py",
   "mimetype": "text/x-python",
   "name": "python",
   "nbconvert_exporter": "python",
   "pygments_lexer": "ipython2",
   "version": "2.7.11"
  }
 },
 "nbformat": 4,
 "nbformat_minor": 0
}
